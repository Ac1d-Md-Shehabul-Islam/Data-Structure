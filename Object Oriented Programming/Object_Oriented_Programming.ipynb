{
  "nbformat": 4,
  "nbformat_minor": 0,
  "metadata": {
    "colab": {
      "name": "Object Oriented Programming.ipynb",
      "provenance": [],
      "collapsed_sections": []
    },
    "kernelspec": {
      "name": "python3",
      "display_name": "Python 3"
    },
    "language_info": {
      "name": "python"
    }
  },
  "cells": [
    {
      "cell_type": "markdown",
      "metadata": {
        "id": "H0CeKx6GdU7s"
      },
      "source": [
        "## OOP\n",
        "\n",
        "\n",
        "Objects have - (i) Methods (ii) Attributes"
      ]
    },
    {
      "cell_type": "code",
      "metadata": {
        "id": "2QkVjJD2dTcf",
        "colab": {
          "base_uri": "https://localhost:8080/"
        },
        "outputId": "9b3d5d32-3d9a-45f4-9057-afdb5014f896"
      },
      "source": [
        "class Player:\n",
        "\n",
        "  member = False # Class object attribute, not dynamic\n",
        "  def __init__(self,name):\n",
        "    self.name = name # attributes\n",
        "    self.member = True\n",
        "\n",
        "  def run(self):\n",
        "    # return self.member\n",
        "    print('run')\n",
        "    return 'done'\n",
        "\n",
        "p1 = Player('Siam')\n",
        "print(p1.name)\n",
        "print(p1.run())\n",
        "print(p1.member)"
      ],
      "execution_count": 2,
      "outputs": [
        {
          "output_type": "stream",
          "text": [
            "Siam\n",
            "run\n",
            "done\n",
            "True\n"
          ],
          "name": "stdout"
        }
      ]
    },
    {
      "cell_type": "markdown",
      "metadata": {
        "id": "P3MYddlnyKUQ"
      },
      "source": [
        "## Set & Get Method"
      ]
    },
    {
      "cell_type": "code",
      "metadata": {
        "id": "vyFUii3pyKA4",
        "colab": {
          "base_uri": "https://localhost:8080/"
        },
        "outputId": "366d912c-187e-47ca-ee83-aa731b3d1b9c"
      },
      "source": [
        "class Book:\n",
        "\n",
        "  def __init__(self,name,author):\n",
        "    self.name = name\n",
        "    self.author = author\n",
        "    self.price = 0\n",
        "\n",
        "  def set_price(self, price):\n",
        "    self.price = price\n",
        "\n",
        "  def get_price(self):\n",
        "    return self.price\n",
        "\n",
        "  def details(self):\n",
        "    print(\"Book name:\", self.name,\n",
        "          \"\\nAuthor:\", self.author,\n",
        "          \"\\nPrice:\", self.price, \"Taka\")\n",
        "    \n",
        "# ==========================================================================\n",
        "\n",
        "b1 = Book('Jingle Bells','Siam')\n",
        "b1.set_price(300)\n",
        "b1.get_price()\n",
        "b1.details()\n"
      ],
      "execution_count": 3,
      "outputs": [
        {
          "output_type": "stream",
          "text": [
            "Book name: Jingle Bells \n",
            "Author: Siam \n",
            "Price: 300 Taka\n"
          ],
          "name": "stdout"
        }
      ]
    },
    {
      "cell_type": "markdown",
      "metadata": {
        "id": "dnJzEU7bDY8f"
      },
      "source": [
        "## Pass by Reference"
      ]
    },
    {
      "cell_type": "code",
      "metadata": {
        "id": "MniGr38JDbDA",
        "colab": {
          "base_uri": "https://localhost:8080/"
        },
        "outputId": "0c054d74-cef8-4e56-aa1f-dbd5117c3945"
      },
      "source": [
        "class Cat:\n",
        "\n",
        "  def __init__(self,name,action):\n",
        "    self.name = name\n",
        "    self.action = action\n",
        "\n",
        "  def compare(self, x):\n",
        "    if self.action == x.action:\n",
        "      print('They are doing the same thing')\n",
        "    else:\n",
        "      print('They are different')\n",
        "\n",
        "#==========================================================================\n",
        "\n",
        "a1 = Cat('Tom','eating')\n",
        "a2 = Cat('Jerry','barking')\n",
        "a1.compare(a2)"
      ],
      "execution_count": 4,
      "outputs": [
        {
          "output_type": "stream",
          "text": [
            "They are different\n"
          ],
          "name": "stdout"
        }
      ]
    },
    {
      "cell_type": "markdown",
      "metadata": {
        "id": "K4MvlCMpE-fS"
      },
      "source": [
        "## Pass by Value"
      ]
    },
    {
      "cell_type": "code",
      "metadata": {
        "id": "hJh1SncBFDPR",
        "colab": {
          "base_uri": "https://localhost:8080/"
        },
        "outputId": "d926b6aa-51c7-490f-f464-c7c6ef82e0b2"
      },
      "source": [
        "class Cat:\n",
        "\n",
        "  def __init__(self,name,action):\n",
        "    self.name = name\n",
        "    self.action = action\n",
        "\n",
        "  def view(self,x,arr):\n",
        "    x = x + 5 \n",
        "    new_arr = arr\n",
        "    new_arr[0] = \"Black\"\n",
        "    print(\"The number is\",x)\n",
        "    print(\"The list is\",new_arr)\n",
        "\n",
        "#==============================================================================\n",
        "\n",
        "color = ['red','green','blue']\n",
        "c1 = Cat('Siam','sleeping')\n",
        "num = 55\n",
        "c1.view(num,color)\n",
        "\n",
        "print(\"\\n------------------------------------------\")\n",
        "\n",
        "print(\"\\nValue of num is\",num)\n",
        "print(\"List contains this color\",color)\n"
      ],
      "execution_count": 5,
      "outputs": [
        {
          "output_type": "stream",
          "text": [
            "The number is 60\n",
            "The list is ['Black', 'green', 'blue']\n",
            "\n",
            "------------------------------------------\n",
            "\n",
            "Value of num is 55\n",
            "List contains this color ['Black', 'green', 'blue']\n"
          ],
          "name": "stdout"
        }
      ]
    },
    {
      "cell_type": "markdown",
      "metadata": {
        "id": "hjblyNnIM6wL"
      },
      "source": [
        "## Method Overloading"
      ]
    },
    {
      "cell_type": "code",
      "metadata": {
        "id": "w_046l1vM83s",
        "colab": {
          "base_uri": "https://localhost:8080/"
        },
        "outputId": "f6b78f54-f314-4e84-f0f2-12a4a10b33e9"
      },
      "source": [
        "class Calculator:\n",
        "\n",
        "  def add(self,num1,num2):\n",
        "    return num1+num2\n",
        "\n",
        "  def product(self,num1,num2):\n",
        "    return num1*num2\n",
        "\n",
        "  def add(self,num1,num2,num3):\n",
        "    return num1+num2+num3\n",
        "\n",
        "#==============================================================================\n",
        "\n",
        "a = Calculator()\n",
        "a.add(3,4,5)  # last method with same name will execute\n",
        "a.add(3,4,8)\n"
      ],
      "execution_count": 6,
      "outputs": [
        {
          "output_type": "execute_result",
          "data": {
            "text/plain": [
              "15"
            ]
          },
          "metadata": {
            "tags": []
          },
          "execution_count": 6
        }
      ]
    },
    {
      "cell_type": "code",
      "metadata": {
        "id": "SfHB9BwnNh5k",
        "colab": {
          "base_uri": "https://localhost:8080/"
        },
        "outputId": "82ab1094-3e05-43e8-b93b-daba4d2512bc"
      },
      "source": [
        "class Calculator:\n",
        "\n",
        "  def add(self,num1,num2=None,num3=None):\n",
        "    if num1 != None and num2 != None and num3 != None:\n",
        "      print(num1+num2+num3)\n",
        "    elif num1 != None and num2 != None:\n",
        "      print(num1+num2)\n",
        "    else:\n",
        "      print(num1+0)\n",
        "\n",
        "\n",
        "#==============================================================================\n",
        "\n",
        "a = Calculator()\n",
        "a.add(5,5)  # last method with same name will execute\n",
        "a.add(5,5,10)\n",
        "a.add(5)\n"
      ],
      "execution_count": 7,
      "outputs": [
        {
          "output_type": "stream",
          "text": [
            "10\n",
            "20\n",
            "5\n"
          ],
          "name": "stdout"
        }
      ]
    },
    {
      "cell_type": "code",
      "metadata": {
        "id": "SE4JXw1MQRmu",
        "colab": {
          "base_uri": "https://localhost:8080/"
        },
        "outputId": "163ae92a-165b-4cef-df3d-baad002f3cc1"
      },
      "source": [
        "class Calculator:\n",
        "\n",
        "  def add(self,*nums):\n",
        "    sum = 0\n",
        "    for x in nums:\n",
        "      sum = sum + x\n",
        "    print(sum)\n",
        "\n",
        "#=================================================================\n",
        "\n",
        "\n",
        "a = Calculator()\n",
        "a.add(10,20,30,50)\n"
      ],
      "execution_count": 8,
      "outputs": [
        {
          "output_type": "stream",
          "text": [
            "110\n"
          ],
          "name": "stdout"
        }
      ]
    },
    {
      "cell_type": "markdown",
      "metadata": {
        "id": "nh3e5YMvDzf_"
      },
      "source": [
        "## Constructor Overloading"
      ]
    },
    {
      "cell_type": "code",
      "metadata": {
        "colab": {
          "base_uri": "https://localhost:8080/"
        },
        "id": "h1vI7qIjD49Z",
        "outputId": "aae2e0fe-ac8a-4b5b-9a3d-e015bae7a6e5"
      },
      "source": [
        "class Animal:\n",
        "    \n",
        "    def __init__(self,**info):\n",
        "        if len(info) == 3:\n",
        "            self.name = info['name']\n",
        "            self.id = info['id']\n",
        "            self.action = info['action']\n",
        "        if len(info) == 2:\n",
        "            self.name = info['name']\n",
        "            self.id=info['id']\n",
        "\n",
        "            \n",
        "        if len(info) == 1:\n",
        "            self.name = info['name']\n",
        "            \n",
        "        print('A Animal class object is created') \n",
        "\n",
        "\n",
        "\n",
        "# class Animal:\n",
        "    \n",
        "#     def __init__(self,*info):\n",
        "#         if len(info) == 3:\n",
        "#             self.name = info[0]\n",
        "#             self.id = info[1]\n",
        "#             self.action = info[2]\n",
        "#         if len(info) == 2:\n",
        "#             self.name = info[0]\n",
        "\n",
        "            \n",
        "#         if len(info) == 1:\n",
        "#             self.name = info[0]\n",
        "            \n",
        "#         print('A Animal class object is created')\n",
        "\n",
        "\n",
        "p1 = Animal(name='Fox',id=54,action='sleeping')\n",
        "p2 = Animal(name='Tiger',id=70)\n",
        "p3 = Animal(name='Cat')\n",
        "p4 = Animal()"
      ],
      "execution_count": 9,
      "outputs": [
        {
          "output_type": "stream",
          "text": [
            "A Animal class object is created\n",
            "A Animal class object is created\n",
            "A Animal class object is created\n",
            "A Animal class object is created\n"
          ],
          "name": "stdout"
        }
      ]
    },
    {
      "cell_type": "markdown",
      "metadata": {
        "id": "p20ZDVR6EMRY"
      },
      "source": [
        "## Operator Overloading"
      ]
    },
    {
      "cell_type": "code",
      "metadata": {
        "colab": {
          "base_uri": "https://localhost:8080/"
        },
        "id": "6fTeiXUuEOK2",
        "outputId": "b2e9203b-f22f-447b-f0d3-b2d39367a7e8"
      },
      "source": [
        "class Data:\n",
        "    \n",
        "    def __init__(self,row,column):\n",
        "        self.x = row\n",
        "        self.y = column\n",
        "        \n",
        "    def elements(self):\n",
        "        print(\"The data has\", self.x,\"rows and\",self.y,\"columns\")\n",
        "        \n",
        "    def __add__(self,other):\n",
        "        new_row = self.x + other.x\n",
        "        new_column = self.y + other.y\n",
        "        object_1 = Data(new_row,new_column)\n",
        "        return object_1\n",
        "        # return \"New data has \" + str(new_row) + \" rows and \" +            str(new_column) + \" columns\"  \n",
        "\n",
        "#============================================================================\n",
        "\n",
        "\n",
        "num1 = Data(10,20) \n",
        "num2 = Data(2,8)\n",
        "num1.elements()\n",
        "num2.elements()\n",
        "num3 = num1 + num2\n",
        "num3.elements()\n",
        "# print(num1+num2)\n",
        "\n",
        "\n",
        "\n"
      ],
      "execution_count": 10,
      "outputs": [
        {
          "output_type": "stream",
          "text": [
            "The data has 10 rows and 20 columns\n",
            "The data has 2 rows and 8 columns\n",
            "The data has 12 rows and 28 columns\n"
          ],
          "name": "stdout"
        }
      ]
    },
    {
      "cell_type": "markdown",
      "metadata": {
        "id": "JqFvyiu_EQzA"
      },
      "source": [
        "## Encapsulation"
      ]
    },
    {
      "cell_type": "markdown",
      "metadata": {
        "id": "jK2X5mH5ESJo"
      },
      "source": [
        "private public attribute\n",
        "\n"
      ]
    },
    {
      "cell_type": "code",
      "metadata": {
        "colab": {
          "base_uri": "https://localhost:8080/"
        },
        "id": "6-wz8CtEEUQR",
        "outputId": "1f0a2d21-1b96-4200-db72-cfebf965e900"
      },
      "source": [
        "class Student:\n",
        "    \n",
        "    def __init__(self, name, id):\n",
        "        self.name = name\n",
        "        self.__id = id\n",
        "        \n",
        "    def details(self):\n",
        "        print(\"Student name:\", self.name, \"ID:\",self.__id)\n",
        "    \n",
        "    \n",
        "    def update_id(self,ID):\n",
        "        if ID>0:\n",
        "            self.__id = ID\n",
        "        else:\n",
        "            print(\"Invalid ID, Enter a New ID\")\n",
        "    \n",
        "#============================================================================\n",
        "\n",
        "\n",
        "a = Student('Siam',50)\n",
        "b = Student('Jack',40)\n",
        "\n",
        "a.__id = 50 # no use\n",
        "\n",
        "a.update_id(40)\n",
        "a.details()\n",
        "b.details()\n",
        "\n"
      ],
      "execution_count": 11,
      "outputs": [
        {
          "output_type": "stream",
          "text": [
            "Student name: Siam ID: 40\n",
            "Student name: Jack ID: 40\n"
          ],
          "name": "stdout"
        }
      ]
    },
    {
      "cell_type": "markdown",
      "metadata": {
        "id": "k0FmlleXEXEe"
      },
      "source": [
        "getter setter"
      ]
    },
    {
      "cell_type": "code",
      "metadata": {
        "colab": {
          "base_uri": "https://localhost:8080/"
        },
        "id": "zAhx6omkEVte",
        "outputId": "4501ba42-9af3-4fc7-f536-f7983e8296fc"
      },
      "source": [
        "class Student:\n",
        "    \n",
        "    def __init__(self, name, id):\n",
        "        self.name = name\n",
        "        self.__id = id\n",
        "        \n",
        "    def details(self):\n",
        "        print(\"Student name:\", self.name, \"ID:\",self.__id)\n",
        "    \n",
        "    \n",
        "    def set_id(self,ID):\n",
        "        if ID>0:\n",
        "            self.__id = ID\n",
        "        else:\n",
        "            print(\"Invalid ID, Enter a New ID\")\n",
        "\n",
        "    def get_id(self):\n",
        "      return self.__id\n",
        "    \n",
        "#============================================================================\n",
        "\n",
        "\n",
        "a = Student('Siam',50)\n",
        "b = Student('Jack',40)\n",
        "\n",
        "a.__id = 50 # no use\n",
        "\n",
        "a.set_id(4000)\n",
        "a.get_id()\n",
        "# print(a.get_id())\n",
        "a.details()\n",
        "# b.details()\n"
      ],
      "execution_count": 12,
      "outputs": [
        {
          "output_type": "stream",
          "text": [
            "Student name: Siam ID: 4000\n"
          ],
          "name": "stdout"
        }
      ]
    },
    {
      "cell_type": "markdown",
      "metadata": {
        "id": "Fp-mXo47Nk8l"
      },
      "source": [
        "private method"
      ]
    },
    {
      "cell_type": "code",
      "metadata": {
        "colab": {
          "base_uri": "https://localhost:8080/"
        },
        "id": "fEzGFZkZNmm0",
        "outputId": "df1ad9d1-7e4e-43d6-8d44-4eb581a6508d"
      },
      "source": [
        "class Student:\n",
        "    \n",
        "    def __init__(self, name, id):\n",
        "        self.name = name\n",
        "        self.__id = id\n",
        "        \n",
        "    def details(self):\n",
        "        print(\"Student name:\", self.name, \"ID:\",self.__id)\n",
        "        self.__method()\n",
        "    \n",
        "    \n",
        "    def __method(self):\n",
        "      print(\"Private method is created\")\n",
        "\n",
        "\n",
        "a = Student('Siam',40)\n",
        "a.details()\n",
        "# a.__method()"
      ],
      "execution_count": 13,
      "outputs": [
        {
          "output_type": "stream",
          "text": [
            "Student name: Siam ID: 40\n",
            "Private method is created\n"
          ],
          "name": "stdout"
        }
      ]
    },
    {
      "cell_type": "markdown",
      "metadata": {
        "id": "fI0HRXG2OcHI"
      },
      "source": [
        "## Class Variable"
      ]
    },
    {
      "cell_type": "code",
      "metadata": {
        "colab": {
          "base_uri": "https://localhost:8080/"
        },
        "id": "xJX74AQhOfXu",
        "outputId": "d9783518-d0a8-4647-de73-b87d65abba43"
      },
      "source": [
        "class Player:\n",
        "    \n",
        "    team_score = 0                  #class variable\n",
        "    \n",
        "    def __init__(self,name,score):\n",
        "        self.name = name\n",
        "        self.run = score\n",
        "        \n",
        "    def hit_four(self):\n",
        "        self.run +=4\n",
        "        Player.team_score +=4\n",
        "        \n",
        "    def hit_six(self):\n",
        "        self.run +=6\n",
        "        Player.team_score +=6\n",
        "        \n",
        "    def get_team_score(self):\n",
        "        print(\"Total run:\",Player.team_score)\n",
        "        \n",
        "    def get_player_score(self):\n",
        "        print(self.name, \"score is:\", self.run  )\n",
        "        \n",
        "#============================================================================\n",
        "\n",
        "\n",
        "a = Player('Sakib',0)\n",
        "b = Player('Tamim',0)\n",
        "b.hit_six()\n",
        "a.hit_four()\n",
        "a.hit_six()\n",
        "a.get_team_score()\n",
        "a.get_player_score()\n"
      ],
      "execution_count": 14,
      "outputs": [
        {
          "output_type": "stream",
          "text": [
            "Total run: 16\n",
            "Sakib score is: 10\n"
          ],
          "name": "stdout"
        }
      ]
    },
    {
      "cell_type": "code",
      "metadata": {
        "colab": {
          "base_uri": "https://localhost:8080/"
        },
        "id": "76uDhoblOzF9",
        "outputId": "3d26cb1f-c0cb-4639-8bea-5a5ef96ad537"
      },
      "source": [
        "class Student:\n",
        "\n",
        "  num_of_student = 0\n",
        "\n",
        "  def __init__(self,name,id):\n",
        "    self.name = name\n",
        "    self.id = id\n",
        "    Student.num_of_student += 1\n",
        "\n",
        "  def view(self):\n",
        "    print('Student Name:',self.name, \"\\nID:\",self.id)\n",
        "    print(\"Total number of Students:\",Student.num_of_student)\n",
        "\n",
        "\n",
        "s1 = Student('Siam',0)\n",
        "s2 = Student('Bob',1)\n",
        "s3 = Student('Jack',2)\n",
        "s3.view()"
      ],
      "execution_count": 15,
      "outputs": [
        {
          "output_type": "stream",
          "text": [
            "Student Name: Jack \n",
            "ID: 2\n",
            "Total number of Students: 3\n"
          ],
          "name": "stdout"
        }
      ]
    },
    {
      "cell_type": "markdown",
      "metadata": {
        "id": "QRqJBtHKe4qc"
      },
      "source": [
        "## Class Method"
      ]
    },
    {
      "cell_type": "code",
      "metadata": {
        "colab": {
          "base_uri": "https://localhost:8080/"
        },
        "id": "zRAeKlUEfHUs",
        "outputId": "35c87e3c-01d2-4601-f5f8-b7bb56a66d68"
      },
      "source": [
        "class Employee:\n",
        "\n",
        "  org_name = 'Apple'\n",
        "\n",
        "  def __init__(self,name):\n",
        "    self.name = name\n",
        "\n",
        "  @classmethod\n",
        "  def info(cls):\n",
        "    return cls.org_name\n",
        "\n",
        "print(Employee.info())"
      ],
      "execution_count": 16,
      "outputs": [
        {
          "output_type": "stream",
          "text": [
            "Apple\n"
          ],
          "name": "stdout"
        }
      ]
    },
    {
      "cell_type": "code",
      "metadata": {
        "colab": {
          "base_uri": "https://localhost:8080/"
        },
        "id": "9zbXj9f_Ya33",
        "outputId": "7ebbb9e3-bcc8-476f-aab9-5de55197ce38"
      },
      "source": [
        "class Student:\n",
        "\n",
        "  uni_name = 'BracU'\n",
        "\n",
        "  def __init__(self,name,id):\n",
        "    self.name = name\n",
        "    self.id = id\n",
        "\n",
        "  def details(self):\n",
        "    print(\"Name:\",self.name,\"\\nID:\",self.id,\"\\nUniversity:\",Student.uni_name)\n",
        "\n",
        "  @classmethod\n",
        "  def update_name(cls,new_name):\n",
        "    Student.uni_name = new_name\n",
        "\n",
        "s1 = Student('Siam',11)\n",
        "s2 = Student('Jack',49)\n",
        "s1.details()\n",
        "print(\"\\n\")\n",
        "Student.update_name('Dhaka University')\n",
        "s1.details()"
      ],
      "execution_count": 17,
      "outputs": [
        {
          "output_type": "stream",
          "text": [
            "Name: Siam \n",
            "ID: 11 \n",
            "University: BracU\n",
            "\n",
            "\n",
            "Name: Siam \n",
            "ID: 11 \n",
            "University: Dhaka University\n"
          ],
          "name": "stdout"
        }
      ]
    },
    {
      "cell_type": "markdown",
      "metadata": {
        "id": "_ls_GT3icYt2"
      },
      "source": [
        "## Class Method (with Constructor Overloading)"
      ]
    },
    {
      "cell_type": "code",
      "metadata": {
        "colab": {
          "base_uri": "https://localhost:8080/"
        },
        "id": "bvbU3E38ccOv",
        "outputId": "676e623f-43b3-455f-d2f3-cb6abe736918"
      },
      "source": [
        "class Student:\n",
        "\n",
        "  uni_name = 'BracU'\n",
        "\n",
        "  def __init__(self,name,id):\n",
        "    self.name = name\n",
        "    self.id = id\n",
        "\n",
        "  def details(self):\n",
        "    print(\"Name:\",self.name,\"\\nID:\",self.id,\"\\nUniversity:\",Student.uni_name)\n",
        "\n",
        "  @classmethod\n",
        "  def update_name(cls,new_name):\n",
        "    Student.uni_name = new_name\n",
        "\n",
        "  @classmethod\n",
        "  def overload(cls, info):\n",
        "    name, id = info.split('-')\n",
        "    obj = cls(name,id)\n",
        "    return obj\n",
        "\n",
        "\n",
        "s1 = Student('siam',4)\n",
        "s2 = Student('bob',20)\n",
        "s3 = Student.overload('Jack-90')\n",
        "s3.details()"
      ],
      "execution_count": 18,
      "outputs": [
        {
          "output_type": "stream",
          "text": [
            "Name: Jack \n",
            "ID: 90 \n",
            "University: BracU\n"
          ],
          "name": "stdout"
        }
      ]
    },
    {
      "cell_type": "markdown",
      "metadata": {
        "id": "yGcM82gPfuSA"
      },
      "source": [
        "\n",
        "## Static Method"
      ]
    },
    {
      "cell_type": "code",
      "metadata": {
        "colab": {
          "base_uri": "https://localhost:8080/"
        },
        "id": "RiMe9bB_fwRv",
        "outputId": "16d40e09-fa71-4aaa-b9a9-d2408229da9a"
      },
      "source": [
        "class Employee:\n",
        "\n",
        "  org_name = 'Apple'\n",
        "\n",
        "  def __init__(self,name):\n",
        "    self.name = name\n",
        "\n",
        "  @staticmethod\n",
        "  def info():\n",
        "    print('static method created')\n",
        "\n",
        "Employee.info()"
      ],
      "execution_count": 19,
      "outputs": [
        {
          "output_type": "stream",
          "text": [
            "static method created\n"
          ],
          "name": "stdout"
        }
      ]
    },
    {
      "cell_type": "code",
      "metadata": {
        "colab": {
          "base_uri": "https://localhost:8080/"
        },
        "id": "CrShn6bJnkYB",
        "outputId": "8b8071dd-7745-45bc-aa66-5ddf158665a2"
      },
      "source": [
        "class Student:\n",
        "\n",
        "  uni_name = 'BracU'\n",
        "\n",
        "  def __init__(self,name,id):\n",
        "    self.name = name\n",
        "    self.id = id\n",
        "\n",
        "  def details(self):\n",
        "    print(\"Name:\",self.name,\"\\nID:\",self.id,\"\\nUniversity:\",Student.uni_name)\n",
        "\n",
        "  @staticmethod\n",
        "  def check_dept(id):\n",
        "    if id[3:5] == \"01\":\n",
        "      print('Department: CSE')\n",
        "    elif id[3:5] == \"41\":\n",
        "      print('CS')\n",
        "    \n",
        "Student.check_dept('17101235')\n",
        "s1 = Student('Siam',17101235)\n",
        "s1.details()\n",
        "# s1.check_dept('17101235')"
      ],
      "execution_count": 20,
      "outputs": [
        {
          "output_type": "stream",
          "text": [
            "Department: CSE\n",
            "Name: Siam \n",
            "ID: 17101235 \n",
            "University: BracU\n"
          ],
          "name": "stdout"
        }
      ]
    },
    {
      "cell_type": "code",
      "metadata": {
        "id": "uSz4HyAIdZq3",
        "colab": {
          "base_uri": "https://localhost:8080/"
        },
        "outputId": "eca7b93b-6fa9-45d2-9abb-d934876b660e"
      },
      "source": [
        "class chess:\n",
        "\n",
        "  member = True # Class object attribute, not dynamic\n",
        "  def __init__(self,name): \n",
        "    if(self.member): # or chess.member instead of self.member\n",
        "      self.name = name # attributes\n",
        "\n",
        "  def run(self):\n",
        "    print('run')\n",
        "    return 'done'\n",
        "\n",
        "p1 = chess('Siam')\n",
        "print(p1.name)\n",
        "print(p1.run())\n",
        "print(p1.member)"
      ],
      "execution_count": 21,
      "outputs": [
        {
          "output_type": "stream",
          "text": [
            "Siam\n",
            "run\n",
            "done\n",
            "True\n"
          ],
          "name": "stdout"
        }
      ]
    },
    {
      "cell_type": "code",
      "metadata": {
        "id": "Tdc-BMk0dbSH",
        "colab": {
          "base_uri": "https://localhost:8080/"
        },
        "outputId": "14703314-537e-4f87-aa4d-5a97c4a59d47"
      },
      "source": [
        "class chess:\n",
        "\n",
        "  member = True # Class object attribute, not dynamic\n",
        "  def __init__(self,name,age): \n",
        "    if(age>20): # or chess.member instead of self.member\n",
        "      self.name = name # attributes\n",
        "      self.age = age\n",
        "\n",
        "  def run(self):\n",
        "    print(f'My name is {self.name}')\n",
        "\n",
        "  def shout(self, x):\n",
        "    print(f'My name is {self.x}')\n",
        "\n",
        "p1 = chess('Siam',21)\n",
        "print(p1.run())\n",
        "# print(p1.member)"
      ],
      "execution_count": 22,
      "outputs": [
        {
          "output_type": "stream",
          "text": [
            "My name is Siam\n",
            "None\n"
          ],
          "name": "stdout"
        }
      ]
    },
    {
      "cell_type": "code",
      "metadata": {
        "id": "VNxzGmBZdeMY",
        "colab": {
          "base_uri": "https://localhost:8080/"
        },
        "outputId": "f317835c-b9fb-4d69-a900-e3d91e1e7c80"
      },
      "source": [
        "class chess:\n",
        "\n",
        "  member = True # Class object attribute, not dynamic\n",
        "  amount = 5\n",
        "\n",
        "  def __init__(self,name,age): \n",
        "    if(age>20): # or chess.member instead of self.member\n",
        "      self.name = name # attributes\n",
        "      # self.age = age\n",
        "\n",
        "  def run(self):\n",
        "    print(f'My name is {self.name}')\n",
        "\n",
        "  def shout(self, x):\n",
        "    print(f'My name is {self.x}')\n",
        "\n",
        "  @classmethod\n",
        "  def call(cls, n1, n2):\n",
        "    cls.amount = 100\n",
        "    print(cls.amount)\n",
        "    return n1+n2\n",
        "\n",
        "\n",
        "  @staticmethod\n",
        "  def bark(n3,n4):\n",
        "    return n3+n4\n",
        "\n",
        "p1 = chess('Siam',21)\n",
        "print(p1.call(3,5))\n",
        "print(p1.bark(4,6))\n",
        "print(chess.amount)\n",
        "# print(p1.member)"
      ],
      "execution_count": 23,
      "outputs": [
        {
          "output_type": "stream",
          "text": [
            "100\n",
            "8\n",
            "10\n",
            "100\n"
          ],
          "name": "stdout"
        }
      ]
    },
    {
      "cell_type": "markdown",
      "metadata": {
        "id": "rjMHHdACd8gv"
      },
      "source": [
        "## Class vs Static Method"
      ]
    },
    {
      "cell_type": "code",
      "metadata": {
        "id": "O0CB1omfdf3B",
        "colab": {
          "base_uri": "https://localhost:8080/"
        },
        "outputId": "e2aeb718-fc7c-4bc4-e5c4-ca07e35a7c97"
      },
      "source": [
        "class Employee:\n",
        "\n",
        "    num_of_emps = 0\n",
        "    raise_amt = 1.04\n",
        "\n",
        "    def __init__(self, first, last, pay):\n",
        "        self.first = first\n",
        "        self.last = last\n",
        "        self.email = first + '.' + last + '@gmail.com'\n",
        "        self.pay = pay\n",
        "\n",
        "        Employee.num_of_emps += 1\n",
        "\n",
        "    def fullname(self):\n",
        "        # return '{} {}'.format(self.first, self.last)\n",
        "        return f\"{self.first},{self.last}\"\n",
        "\n",
        "    def apply_raise(self):\n",
        "        self.pay = int(self.pay * self.raise_amt)\n",
        "\n",
        "    @classmethod\n",
        "    def set_raise_amt(cls, amount):\n",
        "        cls.raise_amt = amount\n",
        "\n",
        "    @classmethod\n",
        "    def from_string(cls, emp_str):\n",
        "        first, last, pay = emp_str.split('-')\n",
        "        return cls(first, last, pay)\n",
        "\n",
        "    @staticmethod\n",
        "    def is_workday(day):\n",
        "        if day.weekday() == 5 or day.weekday() == 6:\n",
        "            return False\n",
        "        return True\n",
        "\n",
        "\n",
        "emp_1 = Employee('Corey', 'Schafer', 50000)\n",
        "emp_2 = Employee('Test', 'Employee', 60000)\n",
        "\n",
        "# Employee.set_raise_amt(1.05)\n",
        "\n",
        "# print(Employee.raise_amt)\n",
        "# print(emp_1.raise_amt)\n",
        "# print(emp_2.raise_amt)\n",
        "\n",
        "# emp_str_1 = 'John-Doe-70000'\n",
        "# emp_str_2 = 'Steve-Smith-30000'\n",
        "# emp_str_3 = 'Jane-Doe-90000'\n",
        "\n",
        "# first, last, pay = emp_str_1.split('-')\n",
        "\n",
        "# #new_emp_1 = Employee(first, last, pay)\n",
        "# new_emp_1 = Employee.from_string(emp_str_1)\n",
        "\n",
        "# print(new_emp_1.email)\n",
        "# print(new_emp_1.pay)\n",
        "\n",
        "import datetime\n",
        "my_date = datetime.date(2016, 7, 11)\n",
        "\n",
        "print(Employee.is_workday(my_date))"
      ],
      "execution_count": 24,
      "outputs": [
        {
          "output_type": "stream",
          "text": [
            "True\n"
          ],
          "name": "stdout"
        }
      ]
    },
    {
      "cell_type": "code",
      "metadata": {
        "id": "nMOyTMOJdhFo"
      },
      "source": [
        "# class NameOfClass:\n",
        "#   class_attribute = 'value'\n",
        "\n",
        "#   def __init__(self,param1,param2):\n",
        "#     self.param1 = param1\n",
        "#     self.param2 = param2\n",
        "\n",
        "#   def method(self):\n",
        "#     # code\n",
        "\n",
        "  # classmethod\n",
        "#   def cls_method(cls,par1,par2):\n",
        "#     # code\n",
        "\n",
        "  # staticmethod\n",
        "#   def stat_method(par1,par2):\n",
        "#     # code\n",
        "\n"
      ],
      "execution_count": 25,
      "outputs": []
    },
    {
      "cell_type": "code",
      "metadata": {
        "id": "SJiBneTKXGii"
      },
      "source": [
        ""
      ],
      "execution_count": 25,
      "outputs": []
    },
    {
      "cell_type": "markdown",
      "metadata": {
        "id": "XmB-EARrdmmI"
      },
      "source": [
        "## Instance Method"
      ]
    },
    {
      "cell_type": "code",
      "metadata": {
        "id": "sWNtlGlTdpzt",
        "colab": {
          "base_uri": "https://localhost:8080/"
        },
        "outputId": "6c860681-30fe-44be-a0d3-125061cd7acc"
      },
      "source": [
        "class Animal:\n",
        "  color = 'black'\n",
        "  # def __init__(self):\n",
        "  #   self.color = 'white'\n",
        "  #   print('This is default Constructor')\n",
        "\n",
        "  def __init__(self, x):\n",
        "    self.name = x\n",
        "    print('-------------------------')\n",
        "    print(\"The dog's name is \", x)\n",
        "    print(\"-------------------------\")\n",
        "\n",
        "  def show(self,y):\n",
        "    print(f\"My dog {self.name} can {y}\")\n",
        "    print('============================')\n",
        "  \n",
        "  def change(self, z):\n",
        "    self.name = z\n",
        "    print(f\"The new dog is {z}\")\n",
        "    print('============================')\n",
        "\n",
        "  def show_name(self):\n",
        "    print(self.name)\n",
        "    print('===========================')\n",
        "\n",
        "\n",
        "# obj = Animal()\n",
        "obj2 = Animal('Jack')\n",
        "obj2.show('talk')\n",
        "obj2.show_name()\n",
        "obj2.change('Salman')\n",
        "obj2.show_name()"
      ],
      "execution_count": 26,
      "outputs": [
        {
          "output_type": "stream",
          "text": [
            "-------------------------\n",
            "The dog's name is  Jack\n",
            "-------------------------\n",
            "My dog Jack can talk\n",
            "============================\n",
            "Jack\n",
            "===========================\n",
            "The new dog is Salman\n",
            "============================\n",
            "Salman\n",
            "===========================\n"
          ],
          "name": "stdout"
        }
      ]
    },
    {
      "cell_type": "code",
      "metadata": {
        "id": "D_oCUNOLdrtl",
        "colab": {
          "base_uri": "https://localhost:8080/"
        },
        "outputId": "2e245fff-193a-4806-d282-459f59930bb8"
      },
      "source": [
        "class Python:\n",
        "\n",
        "  def __init__(self,title,author,price):\n",
        "    self.title = title\n",
        "    self.author = author\n",
        "    self.price = price\n",
        "\n",
        "  def setTitle(self,title):\n",
        "    self.title = title\n",
        "\n",
        "  def setAuthor(self,author):\n",
        "    self.author = author\n",
        "\n",
        "  def setPrice(self,price):\n",
        "    self.price = price\n",
        "\n",
        "  def __str__(self):\n",
        "    return f\" The title of the book is {self.title}, author is {self.author} and the price is {self.price}\"\n",
        "\n",
        "\n",
        "b1 = Python('Hello Boy','Siam',400)\n",
        "b1.setTitle('Hi')\n",
        "b1.setAuthor('No One')\n",
        "b1.setPrice(69)\n",
        "print(b1)"
      ],
      "execution_count": 27,
      "outputs": [
        {
          "output_type": "stream",
          "text": [
            " The title of the book is Hi, author is No One and the price is 69\n"
          ],
          "name": "stdout"
        }
      ]
    },
    {
      "cell_type": "code",
      "metadata": {
        "id": "t_z80TEkds21",
        "colab": {
          "base_uri": "https://localhost:8080/"
        },
        "outputId": "ef34b59b-63cc-4fbd-e8d9-1f85f54e436d"
      },
      "source": [
        "class Student:\n",
        "  university_name = 'BRACU'\n",
        "  courses = []\n",
        "\n",
        "  def __init__(self,name,id,address):\n",
        "    self.name = name\n",
        "    self.id = id\n",
        "    self.address = address\n",
        "\n",
        "  def course_add(self,*course_name):\n",
        "    for i in course_name:\n",
        "      self.courses.append(i)\n",
        "\n",
        "  def course_drop(self,course):\n",
        "    self.courses.remove(course)\n",
        "\n",
        "  def show_courses(self):\n",
        "    print(self.courses)\n",
        "\n",
        "  def display(self):\n",
        "    return f\"Student's name is {self.name}, id - {self.id} and address - {self.address}\"\n",
        "\n",
        "s1 = Student(\"siam\",123,\"dhaka\")\n",
        "s1.course_add(\"e\",\"b\",\"c\")\n",
        "s1.show_courses()\n",
        "s1.display()\n",
        "s1.course_drop(\"e\")\n",
        "s1.show_courses()"
      ],
      "execution_count": 28,
      "outputs": [
        {
          "output_type": "stream",
          "text": [
            "['e', 'b', 'c']\n",
            "['b', 'c']\n"
          ],
          "name": "stdout"
        }
      ]
    },
    {
      "cell_type": "markdown",
      "metadata": {
        "id": "nicZcBfzduVA"
      },
      "source": [
        "## Inheritance"
      ]
    },
    {
      "cell_type": "code",
      "metadata": {
        "id": "vGXG-0aK-irV",
        "colab": {
          "base_uri": "https://localhost:8080/"
        },
        "outputId": "9813bf5f-f5f4-456c-868e-894ba2493d7a"
      },
      "source": [
        "class Employee:\n",
        "    raise_amnt = 1.25\n",
        "    no_of_employee = 0\n",
        "\n",
        "    def __init__(self, first, last, pay):\n",
        "        self.first = first\n",
        "        self.last = last \n",
        "        self.pay = pay\n",
        "        self.email = first.lower() + \".\" + last.lower() + \"@gmail.com\"\n",
        "        Employee.no_of_employee += 1\n",
        "\n",
        "\n",
        "    def fullname(self):\n",
        "        return f\"{self.first} {self.last}\"\n",
        "\n",
        "    def apply_raise(self):\n",
        "        self.pay = int(self.raise_amnt * self.pay) \n",
        "\n",
        "\n",
        "class Developer(Employee):\n",
        "    raise_amnt = 2\n",
        "\n",
        "    def __init__(self, first, last, pay, prog_lang):\n",
        "        super().__init__(first,last,pay)\n",
        "#       Employee.__init__(self,first,last,pay) this will also work\n",
        "        self.prog_lang = prog_lang\n",
        "\n",
        "\n",
        "class Manager(Employee):\n",
        "\n",
        "    def __init__(self, first, last, pay, employees=None):\n",
        "       # we dont want to pass mutable data types such as lists or dictionaries as default argument.\n",
        "        super().__init__(first,last,pay)\n",
        "        if employees is None:\n",
        "           self.employees = []\n",
        "        else:\n",
        "           self.employees = employees\n",
        "\n",
        "    def add_Employee(self, emp):\n",
        "\n",
        "       if emp not in self.employees:\n",
        "           self.employees.append(emp)\n",
        "        \n",
        "    def remove_Employee(self, emp):\n",
        "       if emp in self.employees:\n",
        "          self.employees.remove(emp)\n",
        "\n",
        "\n",
        "    def prnt_emps(self):\n",
        "      for emp in self.employees:\n",
        "         print('-->', emp.fullname())\n",
        "\n",
        "\n",
        "\n",
        "dev_1 = Developer('Siam','Islam',20000,'Python')\n",
        "dev_2 = Developer('Noor','Afrin',3000,'Java')\n",
        "dev_3 = Developer('x','y',0,'C++')\n",
        "\n",
        "man_1 = Manager('Sue','Smith',10000,[dev_1])\n",
        "man_2 = Manager('Joe','Barber',50000,[dev_1,dev_2,dev_3])\n",
        "\n",
        "# print(man_1.email)\n",
        "# # man_1.prnt_emps()\n",
        "# man_1.add_Employee(dev_3)\n",
        "# man_1.prnt_emps()\n",
        "\n",
        "# print(\"After removal\")\n",
        "# print(\"--------\")\n",
        "\n",
        "# man_1.remove_Employee(dev_1)\n",
        "# man_1.prnt_emps()\n",
        "\n",
        "\n",
        "# print(dev_1.email)\n",
        "# print(dev_1.fullname())\n",
        "# print(dev_2.email)\n",
        "\n",
        "# print(dev_1.pay)\n",
        "# dev_1.apply_raise()\n",
        "# print(dev_1.pay)\n",
        "\n",
        "# print(dev_3.email)\n",
        "# print(dev_3.prog_lang)\n",
        "# print(Employee.no_of_employee)\n",
        "\n",
        "# print(isinstance(man_1,Manager))\n",
        "# print(isinstance(man_1,Employee))\n",
        "# print(isinstance(man_1,Developer))\n",
        "print(issubclass(Developer,Employee))\n",
        "print(issubclass(Employee,Manager))\n",
        "print(issubclass(Developer,Manager))"
      ],
      "execution_count": 29,
      "outputs": [
        {
          "output_type": "stream",
          "text": [
            "True\n",
            "False\n",
            "False\n"
          ],
          "name": "stdout"
        }
      ]
    },
    {
      "cell_type": "markdown",
      "metadata": {
        "id": "Si7_3mzD2E5s"
      },
      "source": [
        "## __str__ method"
      ]
    },
    {
      "cell_type": "code",
      "metadata": {
        "id": "h1J4V8r1-nF8",
        "colab": {
          "base_uri": "https://localhost:8080/"
        },
        "outputId": "e6e9006b-37e8-4838-d7cf-118e0ef03d83"
      },
      "source": [
        "class Vehicle:\n",
        "    \n",
        "    def __init__(self,type,model,year):\n",
        "        self.type = type\n",
        "        self.model = model\n",
        "        self.year = year\n",
        "        print(self)\n",
        "        \n",
        "    \n",
        "    def __str__(self):\n",
        "        return \"Vehice Type: \" + self.type + \"\\nModel: \"+ self.model+\"\\nRegistration Year: \" + str(self.year)\n",
        "\n",
        "#===========================================================================\n",
        "\n",
        "a = Vehicle('Car','Axio',2003)\n",
        "# print(a.__str__())"
      ],
      "execution_count": 30,
      "outputs": [
        {
          "output_type": "stream",
          "text": [
            "Vehice Type: Car\n",
            "Model: Axio\n",
            "Registration Year: 2003\n"
          ],
          "name": "stdout"
        }
      ]
    },
    {
      "cell_type": "markdown",
      "metadata": {
        "id": "oDdhISWJ2Mbm"
      },
      "source": [
        "## Abstract Class"
      ]
    },
    {
      "cell_type": "code",
      "metadata": {
        "colab": {
          "base_uri": "https://localhost:8080/"
        },
        "id": "8k1aJEJv2JG-",
        "outputId": "de542ead-80d9-4612-99b8-61260f5ccc33"
      },
      "source": [
        " from abc import ABC, abstractmethod\n",
        "\n",
        "class Animal(ABC):\n",
        "    \n",
        "    @abstractmethod         \n",
        "    def sound(self):               #abstract method must not have any body\n",
        "        pass\n",
        "    \n",
        "    def eat(self):\n",
        "        print(\"The animal is eating\")\n",
        "        \n",
        "#===========================================================================\n",
        "\n",
        "class Dog(Animal):\n",
        "    \n",
        "    def sound(self):\n",
        "        print(\"Dog is barking\")\n",
        "        \n",
        "#===========================================================================\n",
        "\n",
        "class Cat(Animal):\n",
        "    \n",
        "    def sound(self):\n",
        "        print(\"Cat is meowing\")\n",
        "        \n",
        "#===========================================================================\n",
        "\n",
        "d1 = Dog()\n",
        "d1.sound()\n",
        "c1 = Cat()\n",
        "c1.sound()\n",
        "c1.eat()"
      ],
      "execution_count": 31,
      "outputs": [
        {
          "output_type": "stream",
          "text": [
            "Dog is barking\n",
            "Cat is meowing\n",
            "The animal is eating\n"
          ],
          "name": "stdout"
        }
      ]
    }
  ]
}