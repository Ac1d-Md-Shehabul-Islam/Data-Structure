{
  "nbformat": 4,
  "nbformat_minor": 0,
  "metadata": {
    "colab": {
      "name": "Python Basics.ipynb",
      "provenance": [],
      "collapsed_sections": [
        "O_LQs2FoiSUQ",
        "TDtKLc0tOQF7"
      ]
    },
    "kernelspec": {
      "name": "python3",
      "display_name": "Python 3"
    }
  },
  "cells": [
    {
      "cell_type": "code",
      "metadata": {
        "id": "WPmfIzIv3BOc"
      },
      "source": [
        "age = 12\n",
        "name = 'Siam'"
      ],
      "execution_count": 97,
      "outputs": []
    },
    {
      "cell_type": "code",
      "metadata": {
        "colab": {
          "base_uri": "https://localhost:8080/",
          "height": 35
        },
        "id": "-PvK0cPo3MuM",
        "outputId": "13f74575-bf36-4e9a-f358-b27b89a5d6a7"
      },
      "source": [
        "'My name is {} and my age is {}'.format(name,age)"
      ],
      "execution_count": 98,
      "outputs": [
        {
          "output_type": "execute_result",
          "data": {
            "application/vnd.google.colaboratory.intrinsic+json": {
              "type": "string"
            },
            "text/plain": [
              "'My name is Siam and my age is 12'"
            ]
          },
          "metadata": {
            "tags": []
          },
          "execution_count": 98
        }
      ]
    },
    {
      "cell_type": "code",
      "metadata": {
        "colab": {
          "base_uri": "https://localhost:8080/",
          "height": 35
        },
        "id": "oOhCuQct3Xrb",
        "outputId": "8c700b9b-8e35-432a-f897-4666345c7ae8"
      },
      "source": [
        "'My name is {one} and my age is {two}'.format(one=name,two=age)"
      ],
      "execution_count": 99,
      "outputs": [
        {
          "output_type": "execute_result",
          "data": {
            "application/vnd.google.colaboratory.intrinsic+json": {
              "type": "string"
            },
            "text/plain": [
              "'My name is Siam and my age is 12'"
            ]
          },
          "metadata": {
            "tags": []
          },
          "execution_count": 99
        }
      ]
    },
    {
      "cell_type": "code",
      "metadata": {
        "colab": {
          "base_uri": "https://localhost:8080/",
          "height": 35
        },
        "id": "p8zTjw4s3jwc",
        "outputId": "097f517f-606d-4ded-8cfc-044640c2bc6a"
      },
      "source": [
        "s = \"Hello Programmers\"\n",
        "s[0:-1]\n",
        "s[0:-1:2]"
      ],
      "execution_count": 100,
      "outputs": [
        {
          "output_type": "execute_result",
          "data": {
            "application/vnd.google.colaboratory.intrinsic+json": {
              "type": "string"
            },
            "text/plain": [
              "'HloPorme'"
            ]
          },
          "metadata": {
            "tags": []
          },
          "execution_count": 100
        }
      ]
    },
    {
      "cell_type": "code",
      "metadata": {
        "colab": {
          "base_uri": "https://localhost:8080/",
          "height": 35
        },
        "id": "mo3c6sqr32sk",
        "outputId": "92abe653-f342-4fb1-ec87-318d8e99d692"
      },
      "source": [
        "a = [1,2,['c','b']]\n",
        "a[2][1]"
      ],
      "execution_count": 101,
      "outputs": [
        {
          "output_type": "execute_result",
          "data": {
            "application/vnd.google.colaboratory.intrinsic+json": {
              "type": "string"
            },
            "text/plain": [
              "'b'"
            ]
          },
          "metadata": {
            "tags": []
          },
          "execution_count": 101
        }
      ]
    },
    {
      "cell_type": "code",
      "metadata": {
        "colab": {
          "base_uri": "https://localhost:8080/"
        },
        "id": "o6aakQ5q4Khc",
        "outputId": "edf06428-abe1-48b9-e454-6461c3d6fb42"
      },
      "source": [
        "print(a[2][1])"
      ],
      "execution_count": 102,
      "outputs": [
        {
          "output_type": "stream",
          "text": [
            "b\n"
          ],
          "name": "stdout"
        }
      ]
    },
    {
      "cell_type": "code",
      "metadata": {
        "colab": {
          "base_uri": "https://localhost:8080/"
        },
        "id": "gc_-aOoq4i5c",
        "outputId": "47e1da4b-285f-4312-b4d6-17699b368187"
      },
      "source": [
        "nest = [1,2,3,[4,5,['Siam']]]\n",
        "nest[3][2]"
      ],
      "execution_count": 103,
      "outputs": [
        {
          "output_type": "execute_result",
          "data": {
            "text/plain": [
              "['Siam']"
            ]
          },
          "metadata": {
            "tags": []
          },
          "execution_count": 103
        }
      ]
    },
    {
      "cell_type": "code",
      "metadata": {
        "id": "MMgfAzN_4zOj",
        "colab": {
          "base_uri": "https://localhost:8080/"
        },
        "outputId": "ca5bf7c9-ba0a-4368-efa9-60fef6b9baef"
      },
      "source": [
        "d = {'key1':'Siam', 'key2':12}\n",
        "d.keys"
      ],
      "execution_count": 104,
      "outputs": [
        {
          "output_type": "execute_result",
          "data": {
            "text/plain": [
              "<function dict.keys>"
            ]
          },
          "metadata": {
            "tags": []
          },
          "execution_count": 104
        }
      ]
    },
    {
      "cell_type": "code",
      "metadata": {
        "colab": {
          "base_uri": "https://localhost:8080/"
        },
        "id": "tqrznWPbrnZ6",
        "outputId": "3e45d46d-428c-41e7-fd41-4da119f9817c"
      },
      "source": [
        "print(d['key1'])"
      ],
      "execution_count": 105,
      "outputs": [
        {
          "output_type": "stream",
          "text": [
            "Siam\n"
          ],
          "name": "stdout"
        }
      ]
    },
    {
      "cell_type": "code",
      "metadata": {
        "colab": {
          "base_uri": "https://localhost:8080/"
        },
        "id": "NRTGPCwpBVNE",
        "outputId": "5dead502-1f2f-455b-f9bb-81d680eb13e3"
      },
      "source": [
        "d.keys()"
      ],
      "execution_count": 106,
      "outputs": [
        {
          "output_type": "execute_result",
          "data": {
            "text/plain": [
              "dict_keys(['key1', 'key2'])"
            ]
          },
          "metadata": {
            "tags": []
          },
          "execution_count": 106
        }
      ]
    },
    {
      "cell_type": "code",
      "metadata": {
        "colab": {
          "base_uri": "https://localhost:8080/"
        },
        "id": "CJZDn-SgrtmK",
        "outputId": "d68fe00e-c6ce-452e-bacc-e51285ecc8d6"
      },
      "source": [
        "d.items()"
      ],
      "execution_count": 107,
      "outputs": [
        {
          "output_type": "execute_result",
          "data": {
            "text/plain": [
              "dict_items([('key1', 'Siam'), ('key2', 12)])"
            ]
          },
          "metadata": {
            "tags": []
          },
          "execution_count": 107
        }
      ]
    },
    {
      "cell_type": "code",
      "metadata": {
        "colab": {
          "base_uri": "https://localhost:8080/"
        },
        "id": "aYB64u6yr_Ap",
        "outputId": "11863469-c5ee-4ceb-d08e-0740c408a309"
      },
      "source": [
        "d.values()"
      ],
      "execution_count": 108,
      "outputs": [
        {
          "output_type": "execute_result",
          "data": {
            "text/plain": [
              "dict_values(['Siam', 12])"
            ]
          },
          "metadata": {
            "tags": []
          },
          "execution_count": 108
        }
      ]
    },
    {
      "cell_type": "code",
      "metadata": {
        "colab": {
          "base_uri": "https://localhost:8080/"
        },
        "id": "rYDDq-tNsAlJ",
        "outputId": "445ff15d-a1c4-469b-bc26-acd2a45360dc"
      },
      "source": [
        "for i in d:\n",
        "  print(i,d[i])\n",
        "  #print(d[i])"
      ],
      "execution_count": 109,
      "outputs": [
        {
          "output_type": "stream",
          "text": [
            "key1 Siam\n",
            "key2 12\n"
          ],
          "name": "stdout"
        }
      ]
    },
    {
      "cell_type": "code",
      "metadata": {
        "colab": {
          "base_uri": "https://localhost:8080/"
        },
        "id": "dEEwiRXftFgA",
        "outputId": "683f4a35-3af6-43bd-8adf-334b09d67254"
      },
      "source": [
        "for key,value in d.items():\n",
        "  print(key,value)\n",
        "  #print(key)\n",
        "  #print(value)"
      ],
      "execution_count": 110,
      "outputs": [
        {
          "output_type": "stream",
          "text": [
            "key1 Siam\n",
            "key2 12\n"
          ],
          "name": "stdout"
        }
      ]
    },
    {
      "cell_type": "code",
      "metadata": {
        "colab": {
          "base_uri": "https://localhost:8080/"
        },
        "id": "rNzse87ltIwh",
        "outputId": "35208926-5808-40cb-8264-ce7b043e8baa"
      },
      "source": [
        "d1 = {'k':['a','b',2],'k2':'nothing'}\n",
        "d1['k']"
      ],
      "execution_count": 111,
      "outputs": [
        {
          "output_type": "execute_result",
          "data": {
            "text/plain": [
              "['a', 'b', 2]"
            ]
          },
          "metadata": {
            "tags": []
          },
          "execution_count": 111
        }
      ]
    },
    {
      "cell_type": "code",
      "metadata": {
        "colab": {
          "base_uri": "https://localhost:8080/",
          "height": 35
        },
        "id": "NE2B3s8MthdB",
        "outputId": "d838cbc6-b737-460f-8a70-f0e13e8aa070"
      },
      "source": [
        "my_list = d1['k']\n",
        "my_list[0]\n",
        "# d1['k'][0]"
      ],
      "execution_count": 112,
      "outputs": [
        {
          "output_type": "execute_result",
          "data": {
            "application/vnd.google.colaboratory.intrinsic+json": {
              "type": "string"
            },
            "text/plain": [
              "'a'"
            ]
          },
          "metadata": {
            "tags": []
          },
          "execution_count": 112
        }
      ]
    },
    {
      "cell_type": "code",
      "metadata": {
        "colab": {
          "base_uri": "https://localhost:8080/",
          "height": 35
        },
        "id": "L2f9UE2YtzW7",
        "outputId": "2d62b8bd-f341-46a0-9c13-dad9260742c3"
      },
      "source": [
        "d1['k'][0]"
      ],
      "execution_count": 113,
      "outputs": [
        {
          "output_type": "execute_result",
          "data": {
            "application/vnd.google.colaboratory.intrinsic+json": {
              "type": "string"
            },
            "text/plain": [
              "'a'"
            ]
          },
          "metadata": {
            "tags": []
          },
          "execution_count": 113
        }
      ]
    },
    {
      "cell_type": "code",
      "metadata": {
        "colab": {
          "base_uri": "https://localhost:8080/"
        },
        "id": "Z_WiiTwGt9YS",
        "outputId": "31997e5c-1f4e-42c9-e553-e3551692fc3e"
      },
      "source": [
        "d2 = {'k1':{'innerkey':[1,2,3]}}\n",
        "# extracting '2' \n",
        "d2['k1']['innerkey'][1]"
      ],
      "execution_count": 114,
      "outputs": [
        {
          "output_type": "execute_result",
          "data": {
            "text/plain": [
              "2"
            ]
          },
          "metadata": {
            "tags": []
          },
          "execution_count": 114
        }
      ]
    },
    {
      "cell_type": "code",
      "metadata": {
        "colab": {
          "base_uri": "https://localhost:8080/"
        },
        "id": "SRhmLuFRvYEb",
        "outputId": "42b98906-2575-46a8-afa2-1d3c499c349f"
      },
      "source": [
        "t = (1,2,3)\n",
        "my_tuple = t\n",
        "my_tuple"
      ],
      "execution_count": 115,
      "outputs": [
        {
          "output_type": "execute_result",
          "data": {
            "text/plain": [
              "(1, 2, 3)"
            ]
          },
          "metadata": {
            "tags": []
          },
          "execution_count": 115
        }
      ]
    },
    {
      "cell_type": "markdown",
      "metadata": {
        "id": "uv4EcGzxwWIr"
      },
      "source": [
        "Tuples can not be mutated. We can not assign new values to tuple like lists.\n"
      ]
    },
    {
      "cell_type": "code",
      "metadata": {
        "colab": {
          "base_uri": "https://localhost:8080/"
        },
        "id": "CidkNyx1wcfp",
        "outputId": "adce9663-e0b9-4364-bc98-83bed62f6271"
      },
      "source": [
        "a = [1,2,2,2,3,3,3,46,7,5,3,4,99]\n",
        "b = {1,22,22,2,33,43,33,416,7,5,3,4,99}\n",
        "set(a)"
      ],
      "execution_count": 116,
      "outputs": [
        {
          "output_type": "execute_result",
          "data": {
            "text/plain": [
              "{1, 2, 3, 4, 5, 7, 46, 99}"
            ]
          },
          "metadata": {
            "tags": []
          },
          "execution_count": 116
        }
      ]
    },
    {
      "cell_type": "code",
      "metadata": {
        "colab": {
          "base_uri": "https://localhost:8080/"
        },
        "id": "C3O08cE7wsTq",
        "outputId": "0eddaa03-43b8-4edc-894c-d7f1a47a23af"
      },
      "source": [
        "set(b)"
      ],
      "execution_count": 117,
      "outputs": [
        {
          "output_type": "execute_result",
          "data": {
            "text/plain": [
              "{1, 2, 3, 4, 5, 7, 22, 33, 43, 99, 416}"
            ]
          },
          "metadata": {
            "tags": []
          },
          "execution_count": 117
        }
      ]
    },
    {
      "cell_type": "code",
      "metadata": {
        "colab": {
          "base_uri": "https://localhost:8080/"
        },
        "id": "-gfe7uFgw6n5",
        "outputId": "b89e9f4e-f1bc-4938-c71b-0cb6418fd7b2"
      },
      "source": [
        "'Siam' != 'Sami'"
      ],
      "execution_count": 118,
      "outputs": [
        {
          "output_type": "execute_result",
          "data": {
            "text/plain": [
              "True"
            ]
          },
          "metadata": {
            "tags": []
          },
          "execution_count": 118
        }
      ]
    },
    {
      "cell_type": "code",
      "metadata": {
        "colab": {
          "base_uri": "https://localhost:8080/"
        },
        "id": "5oUFZ426xHcZ",
        "outputId": "fe7ccfc3-5a74-4c5c-e2be-4f176675355c"
      },
      "source": [
        "x = [1,2,3,4]\n",
        "output = []\n",
        "\n",
        "for i in x:\n",
        "  output.append(i**2)\n",
        "print(output)"
      ],
      "execution_count": 119,
      "outputs": [
        {
          "output_type": "stream",
          "text": [
            "[1, 4, 9, 16]\n"
          ],
          "name": "stdout"
        }
      ]
    },
    {
      "cell_type": "code",
      "metadata": {
        "colab": {
          "base_uri": "https://localhost:8080/"
        },
        "id": "-Cqqggeb4eUw",
        "outputId": "98e59722-415b-4630-d1ec-9b84278a8e6b"
      },
      "source": [
        "[num**2 for num in x]"
      ],
      "execution_count": 120,
      "outputs": [
        {
          "output_type": "execute_result",
          "data": {
            "text/plain": [
              "[1, 4, 9, 16]"
            ]
          },
          "metadata": {
            "tags": []
          },
          "execution_count": 120
        }
      ]
    },
    {
      "cell_type": "code",
      "metadata": {
        "colab": {
          "base_uri": "https://localhost:8080/"
        },
        "id": "ot7krGCA5hFQ",
        "outputId": "037e60a5-cebd-4cd1-d260-f43a08179173"
      },
      "source": [
        "def axis(text):\n",
        "  print('My name is {one}'.format(one=text))\n",
        "axis('Siam')"
      ],
      "execution_count": 121,
      "outputs": [
        {
          "output_type": "stream",
          "text": [
            "My name is Siam\n"
          ],
          "name": "stdout"
        }
      ]
    },
    {
      "cell_type": "code",
      "metadata": {
        "colab": {
          "base_uri": "https://localhost:8080/"
        },
        "id": "sZE4IiFR5tHA",
        "outputId": "d39e786b-9c5d-4680-b3c5-78c6b358f4cd"
      },
      "source": [
        "def axis(text='default'):\n",
        "  print('My name is {one}'.format(one=text))\n",
        "axis()"
      ],
      "execution_count": 122,
      "outputs": [
        {
          "output_type": "stream",
          "text": [
            "My name is default\n"
          ],
          "name": "stdout"
        }
      ]
    },
    {
      "cell_type": "code",
      "metadata": {
        "colab": {
          "base_uri": "https://localhost:8080/"
        },
        "id": "KvL4F5qg6CFA",
        "outputId": "67cafed3-8ff1-4b2e-cbc7-7dcc5f69402f"
      },
      "source": [
        "def mul(num):\n",
        "  return num*2\n",
        "seq = [1,2,3,4,5]\n",
        "list(map(mul,seq))"
      ],
      "execution_count": 123,
      "outputs": [
        {
          "output_type": "execute_result",
          "data": {
            "text/plain": [
              "[2, 4, 6, 8, 10]"
            ]
          },
          "metadata": {
            "tags": []
          },
          "execution_count": 123
        }
      ]
    },
    {
      "cell_type": "code",
      "metadata": {
        "colab": {
          "base_uri": "https://localhost:8080/"
        },
        "id": "V_ur8Y45-pan",
        "outputId": "02324612-06fe-4439-a068-f4e0a4a80b38"
      },
      "source": [
        "lambda var:var*2 # alternative of writing a function"
      ],
      "execution_count": 124,
      "outputs": [
        {
          "output_type": "execute_result",
          "data": {
            "text/plain": [
              "<function __main__.<lambda>>"
            ]
          },
          "metadata": {
            "tags": []
          },
          "execution_count": 124
        }
      ]
    },
    {
      "cell_type": "code",
      "metadata": {
        "colab": {
          "base_uri": "https://localhost:8080/"
        },
        "id": "W5Ny-gwk_MTQ",
        "outputId": "2d5a38c5-48c2-414d-8a25-26bb84727eea"
      },
      "source": [
        "a = lambda var:var*2\n",
        "a(2)"
      ],
      "execution_count": 125,
      "outputs": [
        {
          "output_type": "execute_result",
          "data": {
            "text/plain": [
              "4"
            ]
          },
          "metadata": {
            "tags": []
          },
          "execution_count": 125
        }
      ]
    },
    {
      "cell_type": "code",
      "metadata": {
        "colab": {
          "base_uri": "https://localhost:8080/"
        },
        "id": "FNw0d1Lg_Rg3",
        "outputId": "dfd5eaf1-cf19-4ed2-86eb-72f14673f0c0"
      },
      "source": [
        "seq = [1,2,3,4,5]\n",
        "list(map(lambda num:num*3,seq))"
      ],
      "execution_count": 126,
      "outputs": [
        {
          "output_type": "execute_result",
          "data": {
            "text/plain": [
              "[3, 6, 9, 12, 15]"
            ]
          },
          "metadata": {
            "tags": []
          },
          "execution_count": 126
        }
      ]
    },
    {
      "cell_type": "code",
      "metadata": {
        "colab": {
          "base_uri": "https://localhost:8080/"
        },
        "id": "MZdgUeYH_Y3P",
        "outputId": "83f5904c-ea8f-4cf4-a3e1-7d31a9836a6f"
      },
      "source": [
        "print(list(filter(lambda num: num%2==0,seq)))"
      ],
      "execution_count": 127,
      "outputs": [
        {
          "output_type": "stream",
          "text": [
            "[2, 4]\n"
          ],
          "name": "stdout"
        }
      ]
    },
    {
      "cell_type": "code",
      "metadata": {
        "colab": {
          "base_uri": "https://localhost:8080/",
          "height": 35
        },
        "id": "No-l6deUADg3",
        "outputId": "0b40aad3-9cc1-491d-e19d-05ed172f8371"
      },
      "source": [
        "text = 'I love @programming @world'\n",
        "#text.lower()\n",
        "#text.upper()\n",
        "text.split('@')[2]"
      ],
      "execution_count": 128,
      "outputs": [
        {
          "output_type": "execute_result",
          "data": {
            "application/vnd.google.colaboratory.intrinsic+json": {
              "type": "string"
            },
            "text/plain": [
              "'world'"
            ]
          },
          "metadata": {
            "tags": []
          },
          "execution_count": 128
        }
      ]
    },
    {
      "cell_type": "code",
      "metadata": {
        "colab": {
          "base_uri": "https://localhost:8080/"
        },
        "id": "IGb9bw5gAgIH",
        "outputId": "b89d3724-2abd-4e9e-cf93-7e0850923c39"
      },
      "source": [
        "x = [(1,2),(3,4),(5,6)]\n",
        "for i in x:\n",
        "  print(i)"
      ],
      "execution_count": 129,
      "outputs": [
        {
          "output_type": "stream",
          "text": [
            "(1, 2)\n",
            "(3, 4)\n",
            "(5, 6)\n"
          ],
          "name": "stdout"
        }
      ]
    },
    {
      "cell_type": "code",
      "metadata": {
        "colab": {
          "base_uri": "https://localhost:8080/"
        },
        "id": "IBTzWMvGB0xf",
        "outputId": "0a6d9bd0-394a-452a-b6c8-efda033c6575"
      },
      "source": [
        "for (a,b) in x:\n",
        "  print(a)\n",
        "  print(b)"
      ],
      "execution_count": 130,
      "outputs": [
        {
          "output_type": "stream",
          "text": [
            "1\n",
            "2\n",
            "3\n",
            "4\n",
            "5\n",
            "6\n"
          ],
          "name": "stdout"
        }
      ]
    },
    {
      "cell_type": "markdown",
      "metadata": {
        "id": "bY8pZQIFUSwo"
      },
      "source": [
        "** Exercises **"
      ]
    },
    {
      "cell_type": "code",
      "metadata": {
        "colab": {
          "base_uri": "https://localhost:8080/"
        },
        "id": "3xHyv3o3B6R_",
        "outputId": "53bbde65-18ee-4737-e018-3ff8b6d05323"
      },
      "source": [
        " 7**4"
      ],
      "execution_count": 131,
      "outputs": [
        {
          "output_type": "execute_result",
          "data": {
            "text/plain": [
              "2401"
            ]
          },
          "metadata": {
            "tags": []
          },
          "execution_count": 131
        }
      ]
    },
    {
      "cell_type": "code",
      "metadata": {
        "colab": {
          "base_uri": "https://localhost:8080/"
        },
        "id": "_UbTVoibUb1k",
        "outputId": "7f4504c1-ce28-40b9-f56d-c61ded26f44c"
      },
      "source": [
        "s = \"Hi there Sam!\"\n",
        "a=s.replace(\"Sam!\",\"Dad!\")\n",
        "a.split()"
      ],
      "execution_count": 132,
      "outputs": [
        {
          "output_type": "execute_result",
          "data": {
            "text/plain": [
              "['Hi', 'there', 'Dad!']"
            ]
          },
          "metadata": {
            "tags": []
          },
          "execution_count": 132
        }
      ]
    },
    {
      "cell_type": "code",
      "metadata": {
        "id": "fhn7L9zbUks9"
      },
      "source": [
        "d = {'k1':[1,2,3,{'tricky':['oh','man','inception',{'target':[1,2,3,'hello']}]}]}"
      ],
      "execution_count": 133,
      "outputs": []
    },
    {
      "cell_type": "code",
      "metadata": {
        "colab": {
          "base_uri": "https://localhost:8080/",
          "height": 35
        },
        "id": "chDgaNn4VYl1",
        "outputId": "f9425655-93eb-48b6-da46-34a4698201b3"
      },
      "source": [
        "d['k1'][3]['tricky'][3]['target'][3]"
      ],
      "execution_count": 134,
      "outputs": [
        {
          "output_type": "execute_result",
          "data": {
            "application/vnd.google.colaboratory.intrinsic+json": {
              "type": "string"
            },
            "text/plain": [
              "'hello'"
            ]
          },
          "metadata": {
            "tags": []
          },
          "execution_count": 134
        }
      ]
    },
    {
      "cell_type": "code",
      "metadata": {
        "colab": {
          "base_uri": "https://localhost:8080/",
          "height": 35
        },
        "id": "mvOPdMPdVtNU",
        "outputId": "5ad3e6f8-2541-45b8-c51c-afda00e0cd72"
      },
      "source": [
        "def email(a):\n",
        "  return a.split('@')[1]\n",
        "\n",
        "email('shehabul97@gmail.com')"
      ],
      "execution_count": 135,
      "outputs": [
        {
          "output_type": "execute_result",
          "data": {
            "application/vnd.google.colaboratory.intrinsic+json": {
              "type": "string"
            },
            "text/plain": [
              "'gmail.com'"
            ]
          },
          "metadata": {
            "tags": []
          },
          "execution_count": 135
        }
      ]
    },
    {
      "cell_type": "code",
      "metadata": {
        "colab": {
          "base_uri": "https://localhost:8080/"
        },
        "id": "OspYydBTWPFk",
        "outputId": "0952a5c0-405b-4d47-9d04-2d30bffcefcc"
      },
      "source": [
        "def findDog(e):\n",
        "  if 'dog' in e:\n",
        "    return True\n",
        "  else:\n",
        "    return False\n",
        "\n",
        "findDog('Is there a dog here?')\n",
        "  "
      ],
      "execution_count": 136,
      "outputs": [
        {
          "output_type": "execute_result",
          "data": {
            "text/plain": [
              "True"
            ]
          },
          "metadata": {
            "tags": []
          },
          "execution_count": 136
        }
      ]
    },
    {
      "cell_type": "code",
      "metadata": {
        "colab": {
          "base_uri": "https://localhost:8080/"
        },
        "id": "l3D2z7D2X-qz",
        "outputId": "71360586-fcb3-4642-f7f9-7cd7f38f6a7d"
      },
      "source": [
        "def dogCount(text):\n",
        "  a=text\n",
        "  b=a.split()\n",
        "  count=0\n",
        "  print(b)\n",
        "  for i in b:\n",
        "    if 'dog' in i:\n",
        "      count=count+1\n",
        "\n",
        "  return count\n",
        "  \n",
        "\n",
        "dogCount('This dog runs faster than other dog dude!')\n"
      ],
      "execution_count": 137,
      "outputs": [
        {
          "output_type": "stream",
          "text": [
            "['This', 'dog', 'runs', 'faster', 'than', 'other', 'dog', 'dude!']\n"
          ],
          "name": "stdout"
        },
        {
          "output_type": "execute_result",
          "data": {
            "text/plain": [
              "2"
            ]
          },
          "metadata": {
            "tags": []
          },
          "execution_count": 137
        }
      ]
    },
    {
      "cell_type": "code",
      "metadata": {
        "colab": {
          "base_uri": "https://localhost:8080/"
        },
        "id": "E53-9MS3YdP0",
        "outputId": "5305e52f-4a6c-4704-f447-2c69a61d195d"
      },
      "source": [
        "seq = ['soup','dog','salad','cat','great']\n",
        "print(list(filter(lambda a:a.startswith('s'),seq)))"
      ],
      "execution_count": 138,
      "outputs": [
        {
          "output_type": "stream",
          "text": [
            "['soup', 'salad']\n"
          ],
          "name": "stdout"
        }
      ]
    },
    {
      "cell_type": "code",
      "metadata": {
        "colab": {
          "base_uri": "https://localhost:8080/",
          "height": 35
        },
        "id": "e1djjyrUai78",
        "outputId": "dfd14334-c041-467e-dbbb-c80f2c594d70"
      },
      "source": [
        "def traffic(speed, is_birthday):\n",
        "  if is_birthday:\n",
        "      sp=speed-5\n",
        "  else:\n",
        "    sp=speed\n",
        "  if sp > 60 and sp <=80:\n",
        "    return \"Small Ticket\"\n",
        "  elif sp < 60:\n",
        "    return \"No Ticket\"\n",
        "  else: \n",
        "    return \"Big Ticket\"\n",
        "traffic(81,False)"
      ],
      "execution_count": 139,
      "outputs": [
        {
          "output_type": "execute_result",
          "data": {
            "application/vnd.google.colaboratory.intrinsic+json": {
              "type": "string"
            },
            "text/plain": [
              "'Big Ticket'"
            ]
          },
          "metadata": {
            "tags": []
          },
          "execution_count": 139
        }
      ]
    },
    {
      "cell_type": "code",
      "metadata": {
        "id": "hPM4sCpIfwrl",
        "colab": {
          "base_uri": "https://localhost:8080/"
        },
        "outputId": "9c25b6a3-5e12-42b9-a76f-7710cbc4eb4d"
      },
      "source": [
        "def super_func(*args, **kwargs):\n",
        "  total=0\n",
        "  for x in kwargs.values():\n",
        "    total+=x\n",
        "  return sum(args)+total\n",
        "print(super_func(1,2,3,4,5, num1=5,num2=10))\n",
        "\n",
        "#Rule: func(params, *args, default_param, **kwargs)  eg: func(name, *args, i='hi', **kwargs)"
      ],
      "execution_count": 140,
      "outputs": [
        {
          "output_type": "stream",
          "text": [
            "30\n"
          ],
          "name": "stdout"
        }
      ]
    },
    {
      "cell_type": "code",
      "metadata": {
        "id": "hAA3Aih3ARas",
        "colab": {
          "base_uri": "https://localhost:8080/"
        },
        "outputId": "f40a62a8-9dd3-45f5-b290-764e9a47087e"
      },
      "source": [
        "a='harry'\n",
        "b='hermione'\n",
        "seen = []\n",
        "duplicate = []\n",
        "c = a+b\n",
        "for x in c:\n",
        "    if x not in seen:\n",
        "        seen.append(x)\n",
        "    else:\n",
        "      duplicate.append(x)    \n",
        "print(duplicate)"
      ],
      "execution_count": 141,
      "outputs": [
        {
          "output_type": "stream",
          "text": [
            "['r', 'h', 'r', 'e']\n"
          ],
          "name": "stdout"
        }
      ]
    },
    {
      "cell_type": "code",
      "metadata": {
        "colab": {
          "base_uri": "https://localhost:8080/",
          "height": 35
        },
        "id": "t9b4PazTy_vS",
        "outputId": "b87172d9-34a5-4f46-d4d6-f475af7149b0"
      },
      "source": [
        "c = a+b\n",
        "c"
      ],
      "execution_count": 142,
      "outputs": [
        {
          "output_type": "execute_result",
          "data": {
            "application/vnd.google.colaboratory.intrinsic+json": {
              "type": "string"
            },
            "text/plain": [
              "'harryhermione'"
            ]
          },
          "metadata": {
            "tags": []
          },
          "execution_count": 142
        }
      ]
    },
    {
      "cell_type": "code",
      "metadata": {
        "id": "IPqj6gwO1ous",
        "colab": {
          "base_uri": "https://localhost:8080/"
        },
        "outputId": "a6471782-56c8-4ff8-94a9-58f195c6c6d0"
      },
      "source": [
        "a = [1, 2, 3, 4]\n",
        "b = [2, 3, 4, 5]\n",
        "\n",
        "ab = [val * b[i] for i, val in enumerate(a)]\n",
        "print(ab)"
      ],
      "execution_count": 143,
      "outputs": [
        {
          "output_type": "stream",
          "text": [
            "[2, 6, 12, 20]\n"
          ],
          "name": "stdout"
        }
      ]
    },
    {
      "cell_type": "code",
      "metadata": {
        "colab": {
          "base_uri": "https://localhost:8080/"
        },
        "id": "uIGr4bFohut4",
        "outputId": "d2b2fa80-cc9e-4cd0-ad5c-37c21dab10e3"
      },
      "source": [
        "list1 = [1, 2, 3]\n",
        "list2 = [4, 5, 6]\n",
        "\n",
        "products = [a * b for a, b in zip(list1, list2)]\n",
        "products"
      ],
      "execution_count": 144,
      "outputs": [
        {
          "output_type": "execute_result",
          "data": {
            "text/plain": [
              "[4, 10, 18]"
            ]
          },
          "metadata": {
            "tags": []
          },
          "execution_count": 144
        }
      ]
    },
    {
      "cell_type": "code",
      "metadata": {
        "colab": {
          "base_uri": "https://localhost:8080/"
        },
        "id": "FWN8P7sfiFv-",
        "outputId": "e735be2b-0427-49d9-aa18-4c9e45985b61"
      },
      "source": [
        "t1 = [1, 3, 4] \n",
        "t2 = [4, 5, 6]\n",
        "output_list = []\n",
        "# output_list = [i * j for j in t1 for i in t2]\n",
        "for j in range(len(t1)):\n",
        "  for i in range(len(t2)):\n",
        "    output_list.append(t2[i]*t1[j])\n",
        "output_list"
      ],
      "execution_count": 145,
      "outputs": [
        {
          "output_type": "execute_result",
          "data": {
            "text/plain": [
              "[4, 5, 6, 12, 15, 18, 16, 20, 24]"
            ]
          },
          "metadata": {
            "tags": []
          },
          "execution_count": 145
        }
      ]
    },
    {
      "cell_type": "code",
      "metadata": {
        "id": "E03iwqxXli2g"
      },
      "source": [
        "# totalnum_lists= input (\"Enter the total number of lists: \")\n",
        "# x=0\n",
        "# max_sum=0\n",
        "# total=0\n",
        "# count=0\n",
        "# while x<int(totalnum_lists):\n",
        "#     mylist=input()\n",
        "#     mylist2=mylist.split()\n",
        "#     for a in range (0,len(mylist2)):\n",
        "#         total=total+int(mylist2[a])\n",
        "#         if total> max_sum :\n",
        "#             max_sum= total\n",
        "#             count = count+1\n",
        "# print (max_sum)"
      ],
      "execution_count": 146,
      "outputs": []
    },
    {
      "cell_type": "code",
      "metadata": {
        "id": "WYuo3-GpR-cv"
      },
      "source": [
        "# def maxSum(lists): \n",
        "#     maxi = 0\n",
        "    \n",
        " \n",
        "#     for x in lists: \n",
        "#         maxi= max(sum(x), maxi) \n",
        "          \n",
        "#     return maxi"
      ],
      "execution_count": 147,
      "outputs": []
    },
    {
      "cell_type": "markdown",
      "metadata": {
        "id": "lP5IoOtp75Ik"
      },
      "source": [
        "## Enumerate"
      ]
    },
    {
      "cell_type": "code",
      "metadata": {
        "id": "TP5S7cSqsqrr",
        "colab": {
          "base_uri": "https://localhost:8080/"
        },
        "outputId": "09a9eb6a-e6ee-4470-aa50-71bb20945015"
      },
      "source": [
        "a = ('A','B','C')\n",
        "output = enumerate(a)\n",
        "print(output)\n",
        "\n",
        "for count, item in enumerate(a):\n",
        "  print(count, ' ', item)"
      ],
      "execution_count": 148,
      "outputs": [
        {
          "output_type": "stream",
          "text": [
            "<enumerate object at 0x7f82469c8320>\n",
            "0   A\n",
            "1   B\n",
            "2   C\n"
          ],
          "name": "stdout"
        }
      ]
    },
    {
      "cell_type": "code",
      "metadata": {
        "colab": {
          "base_uri": "https://localhost:8080/"
        },
        "id": "2ECUkgIR3Mpz",
        "outputId": "457fcac8-733d-41ad-b58d-31db6b447249"
      },
      "source": [
        "for count, item in enumerate(a,2):\n",
        "  print(count, ' ', item)"
      ],
      "execution_count": 149,
      "outputs": [
        {
          "output_type": "stream",
          "text": [
            "2   A\n",
            "3   B\n",
            "4   C\n"
          ],
          "name": "stdout"
        }
      ]
    },
    {
      "cell_type": "markdown",
      "metadata": {
        "id": "aHIt7glD78IE"
      },
      "source": [
        "## Zip"
      ]
    },
    {
      "cell_type": "code",
      "metadata": {
        "colab": {
          "base_uri": "https://localhost:8080/"
        },
        "id": "DIMxqz0I3bEL",
        "outputId": "312f3821-c055-413f-c46d-e1b9cc25a7f6"
      },
      "source": [
        "a = [1,2,3,4,5,6]\n",
        "b = ['A','B','C','D','E','F']\n",
        "c =  [2, 'C', 3 , 'D', 4, 'E', 7 ,8]\n",
        "\n",
        "for item_a, item_b, item_c in zip(a,b,c):\n",
        "  print(item_a,' ',item_b,' ',item_c)"
      ],
      "execution_count": 150,
      "outputs": [
        {
          "output_type": "stream",
          "text": [
            "1   A   2\n",
            "2   B   C\n",
            "3   C   3\n",
            "4   D   D\n",
            "5   E   4\n",
            "6   F   E\n"
          ],
          "name": "stdout"
        }
      ]
    },
    {
      "cell_type": "markdown",
      "metadata": {
        "id": "kbwAyAo970bA"
      },
      "source": [
        "# Comprehensions"
      ]
    },
    {
      "cell_type": "code",
      "metadata": {
        "colab": {
          "base_uri": "https://localhost:8080/"
        },
        "id": "qEPiwAqk4nak",
        "outputId": "3cfc00d4-506e-4c4a-88dc-c1974fee5bc6"
      },
      "source": [
        "numbers = [1,2,3,4,5]\n",
        "lst1 = []\n",
        "\n",
        "for i in numbers:\n",
        "  lst1.append(i**2)\n",
        "print(lst1)"
      ],
      "execution_count": 151,
      "outputs": [
        {
          "output_type": "stream",
          "text": [
            "[1, 4, 9, 16, 25]\n"
          ],
          "name": "stdout"
        }
      ]
    },
    {
      "cell_type": "code",
      "metadata": {
        "colab": {
          "base_uri": "https://localhost:8080/"
        },
        "id": "-vlV9LAy6MEy",
        "outputId": "3a3609f9-6f71-421f-e5ab-c969dd4fbc93"
      },
      "source": [
        "# a\n",
        "lst2 = [i**2 for i in numbers]\n",
        "print(lst2)"
      ],
      "execution_count": 152,
      "outputs": [
        {
          "output_type": "stream",
          "text": [
            "[1, 4, 9, 16, 25]\n"
          ],
          "name": "stdout"
        }
      ]
    },
    {
      "cell_type": "code",
      "metadata": {
        "colab": {
          "base_uri": "https://localhost:8080/"
        },
        "id": "VPXul9GO6U7y",
        "outputId": "237cd26f-6310-4b5b-f035-56616ba06f9c"
      },
      "source": [
        "# b\n",
        "lst2 = [i**2 for i in numbers if i>2]\n",
        "print(lst2)"
      ],
      "execution_count": 153,
      "outputs": [
        {
          "output_type": "stream",
          "text": [
            "[9, 16, 25]\n"
          ],
          "name": "stdout"
        }
      ]
    },
    {
      "cell_type": "code",
      "metadata": {
        "colab": {
          "base_uri": "https://localhost:8080/"
        },
        "id": "G2xBJBdo65Wq",
        "outputId": "00e55dad-8ce5-451b-9068-1db78247b467"
      },
      "source": [
        "# c\n",
        "lst2 = [i**2 if i>2 else i/2 for i in numbers]\n",
        "print(lst2)"
      ],
      "execution_count": 154,
      "outputs": [
        {
          "output_type": "stream",
          "text": [
            "[0.5, 1.0, 9, 16, 25]\n"
          ],
          "name": "stdout"
        }
      ]
    },
    {
      "cell_type": "code",
      "metadata": {
        "colab": {
          "base_uri": "https://localhost:8080/"
        },
        "id": "0mPuKvXB7cAC",
        "outputId": "7c173f48-5096-49d9-9d2e-7fccb1a6a389"
      },
      "source": [
        "st = {n for n in numbers if n>3}\n",
        "print(st)"
      ],
      "execution_count": 155,
      "outputs": [
        {
          "output_type": "stream",
          "text": [
            "{4, 5}\n"
          ],
          "name": "stdout"
        }
      ]
    },
    {
      "cell_type": "code",
      "metadata": {
        "colab": {
          "base_uri": "https://localhost:8080/"
        },
        "id": "2Fx9suYv8Z9K",
        "outputId": "935a4dc8-edef-4552-b0eb-4256e2a5b11e"
      },
      "source": [
        "dct = {n:n**2 for n in numbers if n>3}\n",
        "print(dct)"
      ],
      "execution_count": 156,
      "outputs": [
        {
          "output_type": "stream",
          "text": [
            "{4: 16, 5: 25}\n"
          ],
          "name": "stdout"
        }
      ]
    },
    {
      "cell_type": "markdown",
      "metadata": {
        "id": "YboPbzvpMRm-"
      },
      "source": [
        "## String Formatting\n"
      ]
    },
    {
      "cell_type": "code",
      "metadata": {
        "id": "wKx7SmBc8w0R",
        "colab": {
          "base_uri": "https://localhost:8080/"
        },
        "outputId": "ea8092f7-2eb5-4621-c80b-958ae24042db"
      },
      "source": [
        "name = \"Siam\"\n",
        "weight = 25.46735\n",
        "n_w = \"{:.2f}\".format(weight)\n",
        "stpt = f\"My name is {name} and my age is {n_w}\"\n",
        "print(stpt)"
      ],
      "execution_count": 157,
      "outputs": [
        {
          "output_type": "stream",
          "text": [
            "My name is Siam and my age is 25.47\n"
          ],
          "name": "stdout"
        }
      ]
    },
    {
      "cell_type": "markdown",
      "metadata": {
        "id": "z3De-l_pVDZ_"
      },
      "source": [
        "## Arbitrary Argument"
      ]
    },
    {
      "cell_type": "code",
      "metadata": {
        "colab": {
          "base_uri": "https://localhost:8080/"
        },
        "id": "KmiN3Oe4S7aj",
        "outputId": "bc9251e7-ca5c-4c38-b723-5d34024e1fc5"
      },
      "source": [
        "def a(a,b,*args):\n",
        "  print('a is : ',a)\n",
        "  print('b is : ',b)\n",
        "  ty = type(args)\n",
        "  print('type of args is : ',ty)\n",
        "  print('args value are : ',args)\n",
        "\n",
        "a(1,2,3,4,'e',6,'f')"
      ],
      "execution_count": 158,
      "outputs": [
        {
          "output_type": "stream",
          "text": [
            "a is :  1\n",
            "b is :  2\n",
            "type of args is :  <class 'tuple'>\n",
            "args value are :  (3, 4, 'e', 6, 'f')\n"
          ],
          "name": "stdout"
        }
      ]
    },
    {
      "cell_type": "code",
      "metadata": {
        "colab": {
          "base_uri": "https://localhost:8080/"
        },
        "id": "nggHu-CMXE2C",
        "outputId": "613b0cde-053c-44d7-f71b-ffd19586e308"
      },
      "source": [
        "def minimum(*args):\n",
        "  min = args[0]\n",
        "\n",
        "  for i in args:\n",
        "    if i < min : \n",
        "      min = i\n",
        "  return min\n",
        "\n",
        "minimum(20,2,4,60,-1)"
      ],
      "execution_count": 159,
      "outputs": [
        {
          "output_type": "execute_result",
          "data": {
            "text/plain": [
              "-1"
            ]
          },
          "metadata": {
            "tags": []
          },
          "execution_count": 159
        }
      ]
    },
    {
      "cell_type": "code",
      "metadata": {
        "colab": {
          "base_uri": "https://localhost:8080/"
        },
        "id": "y-35MGwulULU",
        "outputId": "9a3dda63-5b58-49d8-f0cc-327607441669"
      },
      "source": [
        "def display(*msg):\n",
        "  for x in msg:\n",
        "    print(x, end=' ')\n",
        "\n",
        "display(\"Python\", \"is\", \"fun\")"
      ],
      "execution_count": 160,
      "outputs": [
        {
          "output_type": "stream",
          "text": [
            "Python is fun "
          ],
          "name": "stdout"
        }
      ]
    },
    {
      "cell_type": "markdown",
      "metadata": {
        "id": "sggLTW1LZSZe"
      },
      "source": [
        "## Keyword Argument"
      ]
    },
    {
      "cell_type": "code",
      "metadata": {
        "colab": {
          "base_uri": "https://localhost:8080/"
        },
        "id": "zP3MxCysXrdA",
        "outputId": "e57ad5fe-a74f-469f-a6e2-c9dbeab16620"
      },
      "source": [
        "def a(a,b,**kwargs):\n",
        "  print('a is : ',a)\n",
        "  print('b is : ',b)\n",
        "  ty = type(kwargs)\n",
        "  print('type of args is : ',ty)\n",
        "  print('args value are : ',kwargs)\n",
        "\n",
        "a(1,2)"
      ],
      "execution_count": 161,
      "outputs": [
        {
          "output_type": "stream",
          "text": [
            "a is :  1\n",
            "b is :  2\n",
            "type of args is :  <class 'dict'>\n",
            "args value are :  {}\n"
          ],
          "name": "stdout"
        }
      ]
    },
    {
      "cell_type": "code",
      "metadata": {
        "colab": {
          "base_uri": "https://localhost:8080/"
        },
        "id": "6plE0B40ZZ1J",
        "outputId": "37bf7758-8a4b-467b-9889-9980589c0b81"
      },
      "source": [
        "def a(a,b,**kwargs):\n",
        "  print('a is : ',a)\n",
        "  print('b is : ',b)\n",
        "  ty = type(kwargs)\n",
        "  print('type of args is : ',ty)\n",
        "  print('args value are : ',kwargs)\n",
        "\n",
        "a(1,2,name='siam',age=25)"
      ],
      "execution_count": 162,
      "outputs": [
        {
          "output_type": "stream",
          "text": [
            "a is :  1\n",
            "b is :  2\n",
            "type of args is :  <class 'dict'>\n",
            "args value are :  {'name': 'siam', 'age': 25}\n"
          ],
          "name": "stdout"
        }
      ]
    },
    {
      "cell_type": "code",
      "metadata": {
        "colab": {
          "base_uri": "https://localhost:8080/"
        },
        "id": "IKWhPexNz8wG",
        "outputId": "fea1628a-32fe-47ee-a71a-e87a4fd01030"
      },
      "source": [
        "def car(**models):\n",
        "  print(\"Model of the car is \", models['m2'])\n",
        "\n",
        "car(m1='BMW',m2='Ferarri')\n"
      ],
      "execution_count": 163,
      "outputs": [
        {
          "output_type": "stream",
          "text": [
            "Model of the car is  Ferarri\n"
          ],
          "name": "stdout"
        }
      ]
    },
    {
      "cell_type": "code",
      "metadata": {
        "colab": {
          "base_uri": "https://localhost:8080/"
        },
        "id": "DouAwb4wZleQ",
        "outputId": "da3f5670-4283-4367-93d4-825964633681"
      },
      "source": [
        "def fruit_color(**kwargs):\n",
        "  for a,b in kwargs.items():\n",
        "    s = f'the color of {a} is {b}'\n",
        "    print(s)\n",
        "\n",
        "fruit_color(banana='yellow',chocolate='dark')"
      ],
      "execution_count": 164,
      "outputs": [
        {
          "output_type": "stream",
          "text": [
            "the color of banana is yellow\n",
            "the color of chocolate is dark\n"
          ],
          "name": "stdout"
        }
      ]
    },
    {
      "cell_type": "markdown",
      "metadata": {
        "id": "dGAYicJ9bJWq"
      },
      "source": [
        "## args and kwargs"
      ]
    },
    {
      "cell_type": "code",
      "metadata": {
        "colab": {
          "base_uri": "https://localhost:8080/"
        },
        "id": "mHPLwKIkaWiY",
        "outputId": "842601ac-a360-4b6f-ffa2-fa4502ac924a"
      },
      "source": [
        "def gen_func(a,b,c='i am C',d='i am D',*args,**kwargs):\n",
        "  print('a is : ',a)\n",
        "  print('b is : ',b)\n",
        "  print('c is : ',c)\n",
        "  print('d is : ',d)\n",
        "  print('args is : ',args)\n",
        "  print('kwargs is : ',kwargs)\n",
        "\n",
        "gen_func(1,2,'I am changed C', 'I am changed D',5,6,7,name='Siam',age=24)"
      ],
      "execution_count": 165,
      "outputs": [
        {
          "output_type": "stream",
          "text": [
            "a is :  1\n",
            "b is :  2\n",
            "c is :  I am changed C\n",
            "d is :  I am changed D\n",
            "args is :  (5, 6, 7)\n",
            "kwargs is :  {'name': 'Siam', 'age': 24}\n"
          ],
          "name": "stdout"
        }
      ]
    },
    {
      "cell_type": "markdown",
      "metadata": {
        "id": "vi3VOxqsJl_s"
      },
      "source": [
        "## Lambda Function\n",
        "1. map ()\n",
        "2. filter ()"
      ]
    },
    {
      "cell_type": "code",
      "metadata": {
        "colab": {
          "base_uri": "https://localhost:8080/"
        },
        "id": "rLMqIgcFcJM3",
        "outputId": "7e4a2870-809e-4493-e3e2-a57d9ff627fb"
      },
      "source": [
        "# def func_name(x):\n",
        "#   return x*x\n",
        "\n",
        "# func_name(4)\n",
        "\n",
        "new_func = lambda x: x*x\n",
        "print(new_func(4))"
      ],
      "execution_count": 166,
      "outputs": [
        {
          "output_type": "stream",
          "text": [
            "16\n"
          ],
          "name": "stdout"
        }
      ]
    },
    {
      "cell_type": "code",
      "metadata": {
        "colab": {
          "base_uri": "https://localhost:8080/"
        },
        "id": "iI_exnwnJz7c",
        "outputId": "d12fc6fe-81d7-4cbe-c725-dd0c9b3a041b"
      },
      "source": [
        "exp = lambda x,y,z : x+y+z\n",
        "print(exp(1,2,3))"
      ],
      "execution_count": 167,
      "outputs": [
        {
          "output_type": "stream",
          "text": [
            "6\n"
          ],
          "name": "stdout"
        }
      ]
    },
    {
      "cell_type": "code",
      "metadata": {
        "colab": {
          "base_uri": "https://localhost:8080/"
        },
        "id": "luPi8F1aKcvi",
        "outputId": "640760a4-6a95-4c27-e3e5-68d356c4b834"
      },
      "source": [
        "put = lambda *args : sum(args)\n",
        "print(put(1,2,3,5))"
      ],
      "execution_count": 168,
      "outputs": [
        {
          "output_type": "stream",
          "text": [
            "11\n"
          ],
          "name": "stdout"
        }
      ]
    },
    {
      "cell_type": "code",
      "metadata": {
        "colab": {
          "base_uri": "https://localhost:8080/"
        },
        "id": "owskfdlLKyZL",
        "outputId": "c5e7e451-2933-440b-b9c8-45b280ea1b09"
      },
      "source": [
        "put = lambda **kwargs : sum(kwargs.values())\n",
        "print(put(a=1,b=2,c=3,d=5))"
      ],
      "execution_count": 169,
      "outputs": [
        {
          "output_type": "stream",
          "text": [
            "11\n"
          ],
          "name": "stdout"
        }
      ]
    },
    {
      "cell_type": "code",
      "metadata": {
        "colab": {
          "base_uri": "https://localhost:8080/"
        },
        "id": "olcXydrBK-4C",
        "outputId": "fe0e9398-bcd8-4760-8eb3-4bce162731ef"
      },
      "source": [
        "strs = ['Siam','Islam']\n",
        "\n",
        "new_list = []\n",
        "\n",
        "for i in strs:\n",
        "  new_list.append(i.lower())\n",
        "\n",
        "print(new_list)"
      ],
      "execution_count": 170,
      "outputs": [
        {
          "output_type": "stream",
          "text": [
            "['siam', 'islam']\n"
          ],
          "name": "stdout"
        }
      ]
    },
    {
      "cell_type": "code",
      "metadata": {
        "colab": {
          "base_uri": "https://localhost:8080/"
        },
        "id": "1s4n-Mw2L5_a",
        "outputId": "0054a853-13fd-4d5f-b5df-a423273e79fe"
      },
      "source": [
        "low = lambda x: x.lower()\n",
        "result = map(low, strs)\n",
        "print(type(result))\n",
        "print(list(result))"
      ],
      "execution_count": 171,
      "outputs": [
        {
          "output_type": "stream",
          "text": [
            "<class 'map'>\n",
            "['siam', 'islam']\n"
          ],
          "name": "stdout"
        }
      ]
    },
    {
      "cell_type": "code",
      "metadata": {
        "colab": {
          "base_uri": "https://localhost:8080/"
        },
        "id": "eemYYJiDODly",
        "outputId": "a7efc0c3-8b65-467a-a726-7bca3a75c552"
      },
      "source": [
        "l1 = [1,2,3,4,5]\n",
        "l2 = [3,4,5,6]\n",
        "\n",
        "mul = lambda x,y : x*y\n",
        "result = map(mul, l1,l2)\n",
        "print(list(result))"
      ],
      "execution_count": 172,
      "outputs": [
        {
          "output_type": "stream",
          "text": [
            "[3, 8, 15, 24]\n"
          ],
          "name": "stdout"
        }
      ]
    },
    {
      "cell_type": "code",
      "metadata": {
        "colab": {
          "base_uri": "https://localhost:8080/"
        },
        "id": "N7dVv1eoPOVw",
        "outputId": "f07fc78e-025d-40ec-8526-f64abd3bed07"
      },
      "source": [
        "l1 = [1,2,3,4,5]\n",
        "\n",
        "\n",
        "mul = lambda x : x%2==0\n",
        "result = filter(mul,l1)\n",
        "print(list(result))"
      ],
      "execution_count": 173,
      "outputs": [
        {
          "output_type": "stream",
          "text": [
            "[2, 4]\n"
          ],
          "name": "stdout"
        }
      ]
    },
    {
      "cell_type": "code",
      "metadata": {
        "colab": {
          "base_uri": "https://localhost:8080/"
        },
        "id": "BXHZR3MeQLxI",
        "outputId": "c7355b01-fc34-45d5-aaed-22f6d5c27dff"
      },
      "source": [
        "l1 = [1,2,3,4,5]\n",
        "\n",
        "\n",
        "mul = lambda x : x%2==0\n",
        "result = map(mul,l1)\n",
        "print(list(result))"
      ],
      "execution_count": 174,
      "outputs": [
        {
          "output_type": "stream",
          "text": [
            "[False, True, False, True, False]\n"
          ],
          "name": "stdout"
        }
      ]
    },
    {
      "cell_type": "markdown",
      "metadata": {
        "id": "VhnKrIyxVXqF"
      },
      "source": [
        "## Exceptions"
      ]
    },
    {
      "cell_type": "code",
      "metadata": {
        "colab": {
          "base_uri": "https://localhost:8080/"
        },
        "id": "Nbv5JbnjQblx",
        "outputId": "86f73320-7232-4a6c-c0d3-ab214397030d"
      },
      "source": [
        "try: \n",
        "  a = 4/0\n",
        "  print(a)\n",
        "\n",
        "except:\n",
        "  print('There might be a problem')\n",
        "\n",
        "else:\n",
        "  print('Ok')"
      ],
      "execution_count": 175,
      "outputs": [
        {
          "output_type": "stream",
          "text": [
            "There might be a problem\n"
          ],
          "name": "stdout"
        }
      ]
    },
    {
      "cell_type": "code",
      "metadata": {
        "colab": {
          "base_uri": "https://localhost:8080/"
        },
        "id": "mQv26lEGVU0A",
        "outputId": "55ca6b0d-a66b-44cc-d929-adc78d8c3248"
      },
      "source": [
        "try: \n",
        "  import x\n",
        "  a = [10,440,20]\n",
        "  # b = a[4]\n",
        "  c = a[0]\n",
        "  # print(b)\n",
        "  print(c)\n",
        "\n",
        "except IndexError:\n",
        "  print('There might be a index error problem')\n",
        "\n",
        "except ZeroDivisionError:\n",
        "  print('There might be a division error problem')\n",
        "\n",
        "except:\n",
        "  print(\"Handle Properly\")\n",
        "\n",
        "else:\n",
        "  print('Ok')"
      ],
      "execution_count": 176,
      "outputs": [
        {
          "output_type": "stream",
          "text": [
            "Handle Properly\n"
          ],
          "name": "stdout"
        }
      ]
    },
    {
      "cell_type": "markdown",
      "metadata": {
        "id": "O_LQs2FoiSUQ"
      },
      "source": [
        "## Object Oriented Programming\n",
        "\n",
        "Objects have -\n",
        "(i) Methods\n",
        "(ii) Attributes"
      ]
    },
    {
      "cell_type": "code",
      "metadata": {
        "id": "frXEZ2BrVy23",
        "colab": {
          "base_uri": "https://localhost:8080/"
        },
        "outputId": "e0b35b48-450a-406f-f6eb-4eea9914e852"
      },
      "source": [
        "class Player:\n",
        "\n",
        "  member = False # Class object attribute, not dynamic\n",
        "  def __init__(self,name):\n",
        "    self.name = name # attributes\n",
        "    self.member = True\n",
        "\n",
        "  def run(self):\n",
        "    # return self.member\n",
        "    print('run')\n",
        "    return 'done'\n",
        "\n",
        "p1 = Player('Siam')\n",
        "print(p1.name)\n",
        "print(p1.run())\n",
        "print(p1.member)"
      ],
      "execution_count": 177,
      "outputs": [
        {
          "output_type": "stream",
          "text": [
            "Siam\n",
            "run\n",
            "done\n",
            "True\n"
          ],
          "name": "stdout"
        }
      ]
    },
    {
      "cell_type": "code",
      "metadata": {
        "colab": {
          "base_uri": "https://localhost:8080/"
        },
        "id": "o11fkciblJ7z",
        "outputId": "a11e7e83-9203-4ced-df3a-1a7a54a3d0e6"
      },
      "source": [
        "class chess:\n",
        "\n",
        "  member = True # Class object attribute, not dynamic\n",
        "  def __init__(self,name): \n",
        "    if(self.member): # or chess.member instead of self.member\n",
        "      self.name = name # attributes\n",
        "\n",
        "  def run(self):\n",
        "    print('run')\n",
        "    return 'done'\n",
        "\n",
        "p1 = chess('Siam')\n",
        "print(p1.name)\n",
        "print(p1.run())\n",
        "print(p1.member)"
      ],
      "execution_count": 178,
      "outputs": [
        {
          "output_type": "stream",
          "text": [
            "Siam\n",
            "run\n",
            "done\n",
            "True\n"
          ],
          "name": "stdout"
        }
      ]
    },
    {
      "cell_type": "code",
      "metadata": {
        "colab": {
          "base_uri": "https://localhost:8080/"
        },
        "id": "bsbTDejk1di8",
        "outputId": "9c986124-ffa7-4364-8726-203b503fd827"
      },
      "source": [
        "class chess():\n",
        "\n",
        "  member = True # Class object attribute, not dynamic\n",
        "  def __init__(self,name,age): \n",
        "    if(age>20): # or chess.member instead of self.member\n",
        "      self.name = name # attributes\n",
        "      self.age = age\n",
        "\n",
        "  def run(self):\n",
        "    print(f'My name is {self.name}')\n",
        "\n",
        "  def shout(self, x):\n",
        "    print(f'My name is {self.x}')\n",
        "\n",
        "p1 = chess('Siam',21)\n",
        "print(p1.run())\n",
        "# print(p1.member)"
      ],
      "execution_count": 179,
      "outputs": [
        {
          "output_type": "stream",
          "text": [
            "My name is Siam\n",
            "None\n"
          ],
          "name": "stdout"
        }
      ]
    },
    {
      "cell_type": "code",
      "metadata": {
        "colab": {
          "base_uri": "https://localhost:8080/"
        },
        "id": "K4oo9L8q2BeV",
        "outputId": "937d427c-50d1-4c2a-8aa3-4e534c43723e"
      },
      "source": [
        "class chess:\n",
        "\n",
        "  member = True # Class object attribute, not dynamic\n",
        "  amount = 5\n",
        "\n",
        "  def __init__(self,name,age): \n",
        "    if(age>20): # or chess.member instead of self.member\n",
        "      self.name = name # attributes\n",
        "      # self.age = age\n",
        "\n",
        "  def run(self):\n",
        "    print(f'My name is {self.name}')\n",
        "\n",
        "  def shout(self, x):\n",
        "    print(f'My name is {self.x}')\n",
        "\n",
        "  @classmethod\n",
        "  def call(cls, n1, n2):\n",
        "    cls.amount = 100\n",
        "    print(cls.amount)\n",
        "    return n1+n2\n",
        "\n",
        "\n",
        "  @staticmethod\n",
        "  def bark(n3,n4):\n",
        "    return n3+n4\n",
        "\n",
        "p1 = chess('Siam',21)\n",
        "print(p1.call(3,5))\n",
        "print(p1.bark(4,6))\n",
        "print(chess.amount)\n",
        "# print(p1.member)"
      ],
      "execution_count": 180,
      "outputs": [
        {
          "output_type": "stream",
          "text": [
            "100\n",
            "8\n",
            "10\n",
            "100\n"
          ],
          "name": "stdout"
        }
      ]
    },
    {
      "cell_type": "code",
      "metadata": {
        "colab": {
          "base_uri": "https://localhost:8080/"
        },
        "id": "leJj8M1TXq3_",
        "outputId": "83b4fc8b-85dd-4465-dbcd-55891f9f1784"
      },
      "source": [
        "class Employee:\n",
        "\n",
        "    num_of_emps = 0\n",
        "    raise_amt = 1.04\n",
        "\n",
        "    def __init__(self, first, last, pay):\n",
        "        self.first = first\n",
        "        self.last = last\n",
        "        self.email = first + '.' + last + '@gmail.com'\n",
        "        self.pay = pay\n",
        "\n",
        "        Employee.num_of_emps += 1\n",
        "\n",
        "    def fullname(self):\n",
        "        # return '{} {}'.format(self.first, self.last)\n",
        "        return f\"{self.first},{self.last}\"\n",
        "\n",
        "    def apply_raise(self):\n",
        "        self.pay = int(self.pay * self.raise_amt)\n",
        "\n",
        "    @classmethod\n",
        "    def set_raise_amt(cls, amount):\n",
        "        cls.raise_amt = amount\n",
        "\n",
        "    @classmethod\n",
        "    def from_string(cls, emp_str):\n",
        "        first, last, pay = emp_str.split('-')\n",
        "        return cls(first, last, pay)\n",
        "\n",
        "    @staticmethod\n",
        "    def is_workday(day):\n",
        "        if day.weekday() == 5 or day.weekday() == 6:\n",
        "            return False\n",
        "        return True\n",
        "\n",
        "\n",
        "emp_1 = Employee('Corey', 'Schafer', 50000)\n",
        "emp_2 = Employee('Test', 'Employee', 60000)\n",
        "\n",
        "# Employee.set_raise_amt(1.05)\n",
        "\n",
        "# print(Employee.raise_amt)\n",
        "# print(emp_1.raise_amt)\n",
        "# print(emp_2.raise_amt)\n",
        "\n",
        "# emp_str_1 = 'John-Doe-70000'\n",
        "# emp_str_2 = 'Steve-Smith-30000'\n",
        "# emp_str_3 = 'Jane-Doe-90000'\n",
        "\n",
        "# first, last, pay = emp_str_1.split('-')\n",
        "\n",
        "# #new_emp_1 = Employee(first, last, pay)\n",
        "# new_emp_1 = Employee.from_string(emp_str_1)\n",
        "\n",
        "# print(new_emp_1.email)\n",
        "# print(new_emp_1.pay)\n",
        "\n",
        "import datetime\n",
        "my_date = datetime.date(2016, 7, 11)\n",
        "\n",
        "print(Employee.is_workday(my_date))"
      ],
      "execution_count": 181,
      "outputs": [
        {
          "output_type": "stream",
          "text": [
            "True\n"
          ],
          "name": "stdout"
        }
      ]
    },
    {
      "cell_type": "markdown",
      "metadata": {
        "id": "1KngTTioYbo4"
      },
      "source": [
        "Structure OOP"
      ]
    },
    {
      "cell_type": "code",
      "metadata": {
        "id": "rLBdJYZ09kMa"
      },
      "source": [
        "# class NameOfClass:\n",
        "#   class_attribute = 'value'\n",
        "\n",
        "#   def __init__(self,param1,param2):\n",
        "#     self.param1 = param1\n",
        "#     self.param2 = param2\n",
        "\n",
        "#   def method(self):\n",
        "#     # code\n",
        "\n",
        "  # classmethod\n",
        "#   def cls_method(cls,par1,par2):\n",
        "#     # code\n",
        "\n",
        "  # staticmethod\n",
        "#   def stat_method(par1,par2):\n",
        "#     # code\n",
        "\n"
      ],
      "execution_count": 182,
      "outputs": []
    },
    {
      "cell_type": "markdown",
      "metadata": {
        "id": "TDtKLc0tOQF7"
      },
      "source": [
        "## Instance Methods"
      ]
    },
    {
      "cell_type": "code",
      "metadata": {
        "id": "suiTtp2UZerR",
        "colab": {
          "base_uri": "https://localhost:8080/"
        },
        "outputId": "ad477b19-06b9-4638-e15c-fdc7e85eab01"
      },
      "source": [
        "class Animal:\n",
        "  color = 'black'\n",
        "  # def __init__(self):\n",
        "  #   self.color = 'white'\n",
        "  #   print('This is default Constructor')\n",
        "\n",
        "  def __init__(self, x):\n",
        "    self.name = x\n",
        "    print('-------------------------')\n",
        "    print(\"The dog's name is \", x)\n",
        "    print(\"-------------------------\")\n",
        "\n",
        "  def show(self,y):\n",
        "    print(f\"My dog {self.name} can {y}\")\n",
        "    print('============================')\n",
        "  \n",
        "  def change(self, z):\n",
        "    self.name = z\n",
        "    print(f\"The new dog is {z}\")\n",
        "    print('============================')\n",
        "\n",
        "  def show_name(self):\n",
        "    print(self.name)\n",
        "    print('===========================')\n",
        "\n",
        "\n",
        "# obj = Animal()\n",
        "obj2 = Animal('Jack')\n",
        "obj2.show('talk')\n",
        "obj2.show_name()\n",
        "obj2.change('Salman')\n",
        "obj2.show_name()"
      ],
      "execution_count": 183,
      "outputs": [
        {
          "output_type": "stream",
          "text": [
            "-------------------------\n",
            "The dog's name is  Jack\n",
            "-------------------------\n",
            "My dog Jack can talk\n",
            "============================\n",
            "Jack\n",
            "===========================\n",
            "The new dog is Salman\n",
            "============================\n",
            "Salman\n",
            "===========================\n"
          ],
          "name": "stdout"
        }
      ]
    },
    {
      "cell_type": "code",
      "metadata": {
        "colab": {
          "base_uri": "https://localhost:8080/"
        },
        "id": "R6bHWkV9MKDG",
        "outputId": "bd80ba1e-0776-4615-806e-f1d578ad4cbe"
      },
      "source": [
        "class Python:\n",
        "\n",
        "  def __init__(self,title,author,price):\n",
        "    self.title = title\n",
        "    self.author = author\n",
        "    self.price = price\n",
        "\n",
        "  def setTitle(self,title):\n",
        "    self.title = title\n",
        "\n",
        "  def setAuthor(self,author):\n",
        "    self.author = author\n",
        "\n",
        "  def setPrice(self,price):\n",
        "    self.price = price\n",
        "\n",
        "  def __str__(self):\n",
        "    return f\" The title of the book is {self.title}, author is {self.author} and the price is {self.price}\"\n",
        "\n",
        "\n",
        "b1 = Python('Hello Boy','Siam',400)\n",
        "b1.setTitle('Hi')\n",
        "b1.setAuthor('No One')\n",
        "b1.setPrice(69)\n",
        "print(b1)"
      ],
      "execution_count": 184,
      "outputs": [
        {
          "output_type": "stream",
          "text": [
            " The title of the book is Hi, author is No One and the price is 69\n"
          ],
          "name": "stdout"
        }
      ]
    },
    {
      "cell_type": "code",
      "metadata": {
        "colab": {
          "base_uri": "https://localhost:8080/"
        },
        "id": "HOQODjAP-V49",
        "outputId": "e0d28e64-b231-40f7-e80a-0c8f3559c55c"
      },
      "source": [
        "class Student:\n",
        "  university_name = 'BRACU'\n",
        "  courses = []\n",
        "\n",
        "  def __init__(self,name,id,address):\n",
        "    self.name = name\n",
        "    self.id = id\n",
        "    self.address = address\n",
        "\n",
        "  def course_add(self,*course_name):\n",
        "    for i in course_name:\n",
        "      self.courses.append(i)\n",
        "\n",
        "  def course_drop(self,course):\n",
        "    self.courses.remove(course)\n",
        "\n",
        "  def show_courses(self):\n",
        "    print(self.courses)\n",
        "\n",
        "  def display(self):\n",
        "    return f\"Student's name is {self.name}, id - {self.id} and address - {self.address}\"\n",
        "\n",
        "s1 = Student(\"siam\",123,\"dhaka\")\n",
        "s1.course_add(\"e\",\"b\",\"c\")\n",
        "s1.show_courses()\n",
        "s1.display()\n",
        "s1.course_drop(\"e\")\n",
        "s1.show_courses()"
      ],
      "execution_count": 185,
      "outputs": [
        {
          "output_type": "stream",
          "text": [
            "['e', 'b', 'c']\n",
            "['b', 'c']\n"
          ],
          "name": "stdout"
        }
      ]
    },
    {
      "cell_type": "markdown",
      "metadata": {
        "id": "nhjLjSSmeID3"
      },
      "source": [
        "## Decorators"
      ]
    },
    {
      "cell_type": "code",
      "metadata": {
        "colab": {
          "base_uri": "https://localhost:8080/"
        },
        "id": "aCWRpm_NeLgC",
        "outputId": "baad53f0-485d-412c-cacd-7efd7c7cd0df"
      },
      "source": [
        "def outer(func):\n",
        "  def inner():\n",
        "    str1 = func()\n",
        "    return str1.upper()\n",
        "\n",
        "  return inner # referencing the function name\n",
        "\n",
        "@outer\n",
        "def prnt_str():\n",
        "  return \"good_morning\"\n",
        "\n",
        "print(prnt_str())"
      ],
      "execution_count": 186,
      "outputs": [
        {
          "output_type": "stream",
          "text": [
            "GOOD_MORNING\n"
          ],
          "name": "stdout"
        }
      ]
    },
    {
      "cell_type": "code",
      "metadata": {
        "colab": {
          "base_uri": "https://localhost:8080/"
        },
        "id": "iUYCwGRn7_kS",
        "outputId": "88d185e9-5958-48c6-c0c6-5451526ff059"
      },
      "source": [
        "def div_decorator(func):\n",
        "  def inner(x,y):\n",
        "    if y == 0:\n",
        "      print(\"give proper unit\")\n",
        "    else:\n",
        "      return func(x,y)\n",
        "  return inner\n",
        "\n",
        "\n",
        "\n",
        "@div_decorator\n",
        "def div(a,b):\n",
        "  return a/b\n",
        "\n",
        "div(4,0)"
      ],
      "execution_count": 187,
      "outputs": [
        {
          "output_type": "stream",
          "text": [
            "give proper unit\n"
          ],
          "name": "stdout"
        }
      ]
    },
    {
      "cell_type": "markdown",
      "metadata": {
        "id": "xYparKHj-toO"
      },
      "source": [
        "## Multiple Decorator --> Single Function"
      ]
    },
    {
      "cell_type": "code",
      "metadata": {
        "colab": {
          "base_uri": "https://localhost:8080/"
        },
        "id": "Ukl1QdNs9abR",
        "outputId": "929de4f6-4cf4-41c6-e7a4-6b20da360175"
      },
      "source": [
        "def upper_d(func):\n",
        "  def inner():\n",
        "    str1 = func()\n",
        "    return str1.upper()\n",
        "  return inner\n",
        "\n",
        "def split_d(func):\n",
        "  def wrapper():\n",
        "    str2 = func()\n",
        "    return str2.split()\n",
        "  return wrapper\n",
        "\n",
        "@split_d\n",
        "@upper_d\n",
        "def a():\n",
        "  return \"Hi Siam\"\n",
        "\n",
        "# first it will upper case then split the string\n",
        "# cant apply upper function in list so cant interchange the decorator order. i.e 1st - split then 2nd - upper\n",
        "print(a())"
      ],
      "execution_count": 188,
      "outputs": [
        {
          "output_type": "stream",
          "text": [
            "['HI', 'SIAM']\n"
          ],
          "name": "stdout"
        }
      ]
    },
    {
      "cell_type": "markdown",
      "metadata": {
        "id": "MYLY9KOwBOoe"
      },
      "source": [
        "## Decorators with Parameters"
      ]
    },
    {
      "cell_type": "code",
      "metadata": {
        "colab": {
          "base_uri": "https://localhost:8080/"
        },
        "id": "eMwWX_f2AKOS",
        "outputId": "2d05a754-8465-4ba4-9fb0-3aac874fa63e"
      },
      "source": [
        "def decorator_b(exp):\n",
        "  def outer(func):\n",
        "    def inner():\n",
        "      return exp + func()\n",
        "    return inner\n",
        "  return outer\n",
        "\n",
        "@decorator_b(\"Siam\")\n",
        "def b():\n",
        "  return \" is a good boy\"\n",
        "\n",
        "print(b())"
      ],
      "execution_count": 189,
      "outputs": [
        {
          "output_type": "stream",
          "text": [
            "Siam is a good boy\n"
          ],
          "name": "stdout"
        }
      ]
    },
    {
      "cell_type": "markdown",
      "metadata": {
        "id": "vcvpY7pFEQZn"
      },
      "source": [
        "## General Decorator"
      ]
    },
    {
      "cell_type": "code",
      "metadata": {
        "colab": {
          "base_uri": "https://localhost:8080/"
        },
        "id": "-7c8L2mZEKyp",
        "outputId": "776c79a7-c737-4ea9-a814-f1210b7b0d27"
      },
      "source": [
        "def div_decorator(func):\n",
        "  def inner(*args):\n",
        "    list1 = []\n",
        "    list1 = args[1:]\n",
        "    for i in list1:\n",
        "      if i==0:\n",
        "        return \"Give proper unit\"   \n",
        "    return func(*args)\n",
        "  return inner\n",
        "\n",
        "\n",
        "@div_decorator\n",
        "def a1(a,b):\n",
        "  return a/b\n",
        "\n",
        "@div_decorator\n",
        "def a2(a,b,c):\n",
        "  return a/b/c\n",
        "\n",
        "print(a1(10,2))\n",
        "print(a2(20,0,1))\n",
        "print(a2.__name__)"
      ],
      "execution_count": 190,
      "outputs": [
        {
          "output_type": "stream",
          "text": [
            "5.0\n",
            "Give proper unit\n",
            "inner\n"
          ],
          "name": "stdout"
        }
      ]
    },
    {
      "cell_type": "markdown",
      "metadata": {
        "id": "ssvrAfU6Qxxx"
      },
      "source": [
        "## Method Decorator"
      ]
    },
    {
      "cell_type": "code",
      "metadata": {
        "colab": {
          "base_uri": "https://localhost:8080/"
        },
        "id": "eSpXKWz-F44y",
        "outputId": "91a0fe45-112e-4e87-f3f0-fc4614770779"
      },
      "source": [
        "def check_name(func):\n",
        "  def inner(xyz):\n",
        "    if xyz.area == \"Gulshan\":\n",
        "      print(\"It's where I live too\")\n",
        "\n",
        "    else:\n",
        "      func(xyz)\n",
        "\n",
        "  return inner\n",
        "\n",
        "\n",
        "\n",
        "class School:\n",
        "\n",
        "  def __init__(self,area):\n",
        "    self.area = area\n",
        "    \n",
        "  @check_name\n",
        "  def location(self):\n",
        "    print(\"The location of the School is\", self.area)\n",
        "\n",
        "  # def __call__(self):\n",
        "  #   print(\"This is the call method\")\n",
        "\n",
        "\n",
        "obj_1 = School(\"Gulshan 2\")\n",
        "obj_2 = School(\"Gulshan\")\n",
        "obj_1.location()\n",
        "obj_2.location()\n",
        "# obj_1()"
      ],
      "execution_count": 191,
      "outputs": [
        {
          "output_type": "stream",
          "text": [
            "The location of the School is Gulshan 2\n",
            "It's where I live too\n"
          ],
          "name": "stdout"
        }
      ]
    },
    {
      "cell_type": "markdown",
      "metadata": {
        "id": "tcOWn8hjSsMR"
      },
      "source": [
        "## Call Method"
      ]
    },
    {
      "cell_type": "code",
      "metadata": {
        "colab": {
          "base_uri": "https://localhost:8080/"
        },
        "id": "sNsxhOrBRR15",
        "outputId": "ddce5771-d426-48a9-e365-aec450c08a3a"
      },
      "source": [
        "def check_name(func):\n",
        "  def inner(xyz):\n",
        "    if xyz.area == \"Gulshan\":  # xyz.area is same as self.area\n",
        "      print(\"It's where I live too\")\n",
        "\n",
        "    else:\n",
        "      func(xyz)\n",
        "\n",
        "  return inner\n",
        "\n",
        "\n",
        "\n",
        "class School:\n",
        "\n",
        "  def __init__(self,area):\n",
        "    self.area = area\n",
        "    \n",
        "  @check_name\n",
        "  def location(self):\n",
        "    print(\"The location of the School is\", self.area)\n",
        "\n",
        "  def __call__(self):\n",
        "    print(\"This is the call method\")\n",
        "\n",
        "\n",
        "obj_1 = School(\"Gulshan 2\")\n",
        "# obj_2 = School(\"Gulshan\")\n",
        "# obj_1.location()\n",
        "# obj_2.location()\n",
        "obj_1()"
      ],
      "execution_count": 192,
      "outputs": [
        {
          "output_type": "stream",
          "text": [
            "This is the call method\n"
          ],
          "name": "stdout"
        }
      ]
    },
    {
      "cell_type": "markdown",
      "metadata": {
        "id": "APUpmxL-TQc4"
      },
      "source": [
        "## Class Decorator"
      ]
    },
    {
      "cell_type": "code",
      "metadata": {
        "colab": {
          "base_uri": "https://localhost:8080/"
        },
        "id": "adqpfWjnSrKB",
        "outputId": "a2f6c3c1-a5c0-4c77-ee9f-c9451433d668"
      },
      "source": [
        "class Decorator:\n",
        "\n",
        "  def __init__(self, func):\n",
        "    self.func = func\n",
        "\n",
        "  def __call__(self):\n",
        "    str1 = self.func()\n",
        "    return str1.upper()\n",
        "\n",
        "\n",
        "@Decorator\n",
        "def greet():\n",
        "  return \"Hello Siam\"\n",
        "\n",
        "print(greet())"
      ],
      "execution_count": 193,
      "outputs": [
        {
          "output_type": "stream",
          "text": [
            "HELLO SIAM\n"
          ],
          "name": "stdout"
        }
      ]
    }
  ]
}